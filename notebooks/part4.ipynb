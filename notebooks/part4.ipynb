{
 "cells": [
  {
   "cell_type": "code",
   "execution_count": 1,
   "id": "9f34ca61-22af-42ed-adb9-8e95a5186d53",
   "metadata": {},
   "outputs": [],
   "source": [
    "import pandas as pd"
   ]
  },
  {
   "cell_type": "code",
   "execution_count": 10,
   "id": "2e72de04-41c2-494c-82da-0298ee12ade5",
   "metadata": {},
   "outputs": [],
   "source": [
    "obs_file = \"https://github.com/spiros/nkua-health-data-science/raw/master/data/dest/observations.csv.gz\"\n",
    "loinc_file = \"https://github.com/spiros/nkua-health-data-science/raw/master/data/dest/dictionary_loinc.csv\"\n",
    "df_obs = pd.read_csv(obs_file)\n",
    "df_loinc = pd.read_csv(loinc_file)"
   ]
  },
  {
   "cell_type": "code",
   "execution_count": 12,
   "id": "7c0a6511-728d-4979-b566-6d6cddb15a57",
   "metadata": {},
   "outputs": [
    {
     "data": {
      "text/html": [
       "<div>\n",
       "<style scoped>\n",
       "    .dataframe tbody tr th:only-of-type {\n",
       "        vertical-align: middle;\n",
       "    }\n",
       "\n",
       "    .dataframe tbody tr th {\n",
       "        vertical-align: top;\n",
       "    }\n",
       "\n",
       "    .dataframe thead th {\n",
       "        text-align: right;\n",
       "    }\n",
       "</style>\n",
       "<table border=\"1\" class=\"dataframe\">\n",
       "  <thead>\n",
       "    <tr style=\"text-align: right;\">\n",
       "      <th></th>\n",
       "      <th>DATE</th>\n",
       "      <th>PATIENT</th>\n",
       "      <th>ENCOUNTER</th>\n",
       "      <th>CATEGORY</th>\n",
       "      <th>CODE</th>\n",
       "      <th>VALUE</th>\n",
       "      <th>UNITS</th>\n",
       "      <th>TYPE</th>\n",
       "    </tr>\n",
       "  </thead>\n",
       "  <tbody>\n",
       "    <tr>\n",
       "      <th>0</th>\n",
       "      <td>2019-02-17T05:07:38Z</td>\n",
       "      <td>b9c610cd-28a6-4636-ccb6-c7a0d2a4cb85</td>\n",
       "      <td>748f8357-6cc7-551d-f31a-32fa2cf84126</td>\n",
       "      <td>vital-signs</td>\n",
       "      <td>8302-2</td>\n",
       "      <td>51.4</td>\n",
       "      <td>cm</td>\n",
       "      <td>numeric</td>\n",
       "    </tr>\n",
       "    <tr>\n",
       "      <th>1</th>\n",
       "      <td>2019-02-17T05:07:38Z</td>\n",
       "      <td>b9c610cd-28a6-4636-ccb6-c7a0d2a4cb85</td>\n",
       "      <td>748f8357-6cc7-551d-f31a-32fa2cf84126</td>\n",
       "      <td>vital-signs</td>\n",
       "      <td>72514-3</td>\n",
       "      <td>1.0</td>\n",
       "      <td>{score}</td>\n",
       "      <td>numeric</td>\n",
       "    </tr>\n",
       "    <tr>\n",
       "      <th>2</th>\n",
       "      <td>2019-02-17T05:07:38Z</td>\n",
       "      <td>b9c610cd-28a6-4636-ccb6-c7a0d2a4cb85</td>\n",
       "      <td>748f8357-6cc7-551d-f31a-32fa2cf84126</td>\n",
       "      <td>vital-signs</td>\n",
       "      <td>29463-7</td>\n",
       "      <td>3.8</td>\n",
       "      <td>kg</td>\n",
       "      <td>numeric</td>\n",
       "    </tr>\n",
       "  </tbody>\n",
       "</table>\n",
       "</div>"
      ],
      "text/plain": [
       "                   DATE                               PATIENT  \\\n",
       "0  2019-02-17T05:07:38Z  b9c610cd-28a6-4636-ccb6-c7a0d2a4cb85   \n",
       "1  2019-02-17T05:07:38Z  b9c610cd-28a6-4636-ccb6-c7a0d2a4cb85   \n",
       "2  2019-02-17T05:07:38Z  b9c610cd-28a6-4636-ccb6-c7a0d2a4cb85   \n",
       "\n",
       "                              ENCOUNTER     CATEGORY     CODE VALUE    UNITS  \\\n",
       "0  748f8357-6cc7-551d-f31a-32fa2cf84126  vital-signs   8302-2  51.4       cm   \n",
       "1  748f8357-6cc7-551d-f31a-32fa2cf84126  vital-signs  72514-3   1.0  {score}   \n",
       "2  748f8357-6cc7-551d-f31a-32fa2cf84126  vital-signs  29463-7   3.8       kg   \n",
       "\n",
       "      TYPE  \n",
       "0  numeric  \n",
       "1  numeric  \n",
       "2  numeric  "
      ]
     },
     "execution_count": 12,
     "metadata": {},
     "output_type": "execute_result"
    }
   ],
   "source": [
    "df_obs.head(3)"
   ]
  },
  {
   "cell_type": "code",
   "execution_count": 13,
   "id": "f3c80695-4338-4402-a00a-0b58359d5bf3",
   "metadata": {},
   "outputs": [
    {
     "data": {
      "text/html": [
       "<div>\n",
       "<style scoped>\n",
       "    .dataframe tbody tr th:only-of-type {\n",
       "        vertical-align: middle;\n",
       "    }\n",
       "\n",
       "    .dataframe tbody tr th {\n",
       "        vertical-align: top;\n",
       "    }\n",
       "\n",
       "    .dataframe thead th {\n",
       "        text-align: right;\n",
       "    }\n",
       "</style>\n",
       "<table border=\"1\" class=\"dataframe\">\n",
       "  <thead>\n",
       "    <tr style=\"text-align: right;\">\n",
       "      <th></th>\n",
       "      <th>CODE</th>\n",
       "      <th>DESCRIPTION</th>\n",
       "    </tr>\n",
       "  </thead>\n",
       "  <tbody>\n",
       "    <tr>\n",
       "      <th>0</th>\n",
       "      <td>8302-2</td>\n",
       "      <td>Body Height</td>\n",
       "    </tr>\n",
       "    <tr>\n",
       "      <th>1</th>\n",
       "      <td>72514-3</td>\n",
       "      <td>Pain severity - 0-10 verbal numeric rating [Sc...</td>\n",
       "    </tr>\n",
       "    <tr>\n",
       "      <th>2</th>\n",
       "      <td>29463-7</td>\n",
       "      <td>Body Weight</td>\n",
       "    </tr>\n",
       "  </tbody>\n",
       "</table>\n",
       "</div>"
      ],
      "text/plain": [
       "      CODE                                        DESCRIPTION\n",
       "0   8302-2                                        Body Height\n",
       "1  72514-3  Pain severity - 0-10 verbal numeric rating [Sc...\n",
       "2  29463-7                                        Body Weight"
      ]
     },
     "execution_count": 13,
     "metadata": {},
     "output_type": "execute_result"
    }
   ],
   "source": [
    "df_loinc.head(3)"
   ]
  },
  {
   "cell_type": "code",
   "execution_count": 16,
   "id": "79cf4d60-7b92-42d9-8a06-18ba6b3e807c",
   "metadata": {},
   "outputs": [
    {
     "name": "stdout",
     "output_type": "stream",
     "text": [
      "(531144, 8)\n",
      "(256, 2)\n"
     ]
    }
   ],
   "source": [
    "print(df_obs.shape)\n",
    "print(df_loinc.shape)"
   ]
  },
  {
   "cell_type": "code",
   "execution_count": 14,
   "id": "9e92e6a0-631e-4c0d-9f6b-029af1348383",
   "metadata": {},
   "outputs": [
    {
     "data": {
      "text/plain": [
       "DATE         object\n",
       "PATIENT      object\n",
       "ENCOUNTER    object\n",
       "CATEGORY     object\n",
       "CODE         object\n",
       "VALUE        object\n",
       "UNITS        object\n",
       "TYPE         object\n",
       "dtype: object"
      ]
     },
     "execution_count": 14,
     "metadata": {},
     "output_type": "execute_result"
    }
   ],
   "source": [
    "df_obs.dtypes"
   ]
  },
  {
   "cell_type": "code",
   "execution_count": 15,
   "id": "b5f6e535-df0f-480d-b9b3-b7b48a26fbb3",
   "metadata": {},
   "outputs": [],
   "source": [
    "df_obs['DATE'] = pd.to_datetime(df_obs['DATE'])"
   ]
  },
  {
   "cell_type": "code",
   "execution_count": 17,
   "id": "de62979d-245f-472c-9297-31b8209ce619",
   "metadata": {},
   "outputs": [
    {
     "data": {
      "text/plain": [
       "1163"
      ]
     },
     "execution_count": 17,
     "metadata": {},
     "output_type": "execute_result"
    }
   ],
   "source": [
    "df_obs.PATIENT.nunique()"
   ]
  },
  {
   "cell_type": "code",
   "execution_count": 18,
   "id": "a8c7e674-2b59-4e20-9ab9-fbac9dc5f789",
   "metadata": {},
   "outputs": [
    {
     "data": {
      "text/plain": [
       "233"
      ]
     },
     "execution_count": 18,
     "metadata": {},
     "output_type": "execute_result"
    }
   ],
   "source": [
    "df_obs.CODE.nunique()"
   ]
  },
  {
   "cell_type": "code",
   "execution_count": 23,
   "id": "c070c3a9-3988-499f-83b3-7aff04dec65a",
   "metadata": {},
   "outputs": [
    {
     "name": "stdout",
     "output_type": "stream",
     "text": [
      "(724, 8)\n",
      "19\n"
     ]
    }
   ],
   "source": [
    "print(df_obs[df_obs['CODE'].isna()].shape)\n",
    "print(df_obs[df_obs['CODE'].isna()].PATIENT.nunique())"
   ]
  },
  {
   "cell_type": "code",
   "execution_count": 25,
   "id": "05d5bbf0-17fa-4ae7-b56c-b42614d966d1",
   "metadata": {},
   "outputs": [],
   "source": [
    "df_obs = df_obs.merge(\n",
    "    df_loinc,\n",
    "    how='left',\n",
    "    left_on='CODE',\n",
    "    right_on='CODE',\n",
    "    indicator=True\n",
    ")"
   ]
  },
  {
   "cell_type": "code",
   "execution_count": 26,
   "id": "506aa07a-073a-4146-8fc9-93e238d016a3",
   "metadata": {},
   "outputs": [
    {
     "data": {
      "text/plain": [
       "_merge\n",
       "both          541996\n",
       "left_only      32560\n",
       "right_only         0\n",
       "Name: count, dtype: int64"
      ]
     },
     "execution_count": 26,
     "metadata": {},
     "output_type": "execute_result"
    }
   ],
   "source": [
    "df_obs._merge.value_counts()"
   ]
  },
  {
   "cell_type": "code",
   "execution_count": 28,
   "id": "d030fa35-a8d6-4735-89fe-546496877fb8",
   "metadata": {},
   "outputs": [
    {
     "data": {
      "text/plain": [
       "CODE\n",
       "-7                31732\n",
       "NaN                 724\n",
       "2833710--05010      104\n",
       "Name: count, dtype: int64"
      ]
     },
     "execution_count": 28,
     "metadata": {},
     "output_type": "execute_result"
    }
   ],
   "source": [
    "df_obs[df_obs['_merge']=='left_only'].CODE.value_counts(dropna=False)"
   ]
  },
  {
   "cell_type": "code",
   "execution_count": 33,
   "id": "938a7a78-b0ab-4f61-af6b-69be9bb45c73",
   "metadata": {},
   "outputs": [],
   "source": [
    "df_obs.drop(df_obs[df_obs['_merge']=='left_only'].index, inplace=True)"
   ]
  },
  {
   "cell_type": "code",
   "execution_count": 36,
   "id": "73fe2bb4-47e6-4392-8110-17621f7dd28f",
   "metadata": {},
   "outputs": [
    {
     "data": {
      "text/html": [
       "<div>\n",
       "<style scoped>\n",
       "    .dataframe tbody tr th:only-of-type {\n",
       "        vertical-align: middle;\n",
       "    }\n",
       "\n",
       "    .dataframe tbody tr th {\n",
       "        vertical-align: top;\n",
       "    }\n",
       "\n",
       "    .dataframe thead th {\n",
       "        text-align: right;\n",
       "    }\n",
       "</style>\n",
       "<table border=\"1\" class=\"dataframe\">\n",
       "  <thead>\n",
       "    <tr style=\"text-align: right;\">\n",
       "      <th></th>\n",
       "      <th>CODE</th>\n",
       "      <th>DESCRIPTION</th>\n",
       "      <th>count</th>\n",
       "    </tr>\n",
       "  </thead>\n",
       "  <tbody>\n",
       "    <tr>\n",
       "      <th>171</th>\n",
       "      <td>72514-3</td>\n",
       "      <td>Pain severity - 0-10 verbal numeric rating [Sc...</td>\n",
       "      <td>14514</td>\n",
       "    </tr>\n",
       "    <tr>\n",
       "      <th>201</th>\n",
       "      <td>8462-4</td>\n",
       "      <td>Diastolic Blood Pressure</td>\n",
       "      <td>14444</td>\n",
       "    </tr>\n",
       "    <tr>\n",
       "      <th>203</th>\n",
       "      <td>8480-6</td>\n",
       "      <td>Systolic Blood Pressure</td>\n",
       "      <td>14444</td>\n",
       "    </tr>\n",
       "    <tr>\n",
       "      <th>67</th>\n",
       "      <td>29463-7</td>\n",
       "      <td>Body Weight</td>\n",
       "      <td>13252</td>\n",
       "    </tr>\n",
       "    <tr>\n",
       "      <th>228</th>\n",
       "      <td>9279-1</td>\n",
       "      <td>Respiratory rate</td>\n",
       "      <td>12991</td>\n",
       "    </tr>\n",
       "    <tr>\n",
       "      <th>215</th>\n",
       "      <td>8867-4</td>\n",
       "      <td>Heart rate</td>\n",
       "      <td>12991</td>\n",
       "    </tr>\n",
       "    <tr>\n",
       "      <th>199</th>\n",
       "      <td>8302-2</td>\n",
       "      <td>Body Height</td>\n",
       "      <td>12676</td>\n",
       "    </tr>\n",
       "    <tr>\n",
       "      <th>170</th>\n",
       "      <td>72166-2</td>\n",
       "      <td>Tobacco smoking status NHIS</td>\n",
       "      <td>12643</td>\n",
       "    </tr>\n",
       "    <tr>\n",
       "      <th>92</th>\n",
       "      <td>39156-5</td>\n",
       "      <td>Body Mass Index</td>\n",
       "      <td>11549</td>\n",
       "    </tr>\n",
       "    <tr>\n",
       "      <th>167</th>\n",
       "      <td>71802-3</td>\n",
       "      <td>Housing status</td>\n",
       "      <td>8929</td>\n",
       "    </tr>\n",
       "    <tr>\n",
       "      <th>168</th>\n",
       "      <td>71802-3</td>\n",
       "      <td>What is your housing situation today?</td>\n",
       "      <td>8929</td>\n",
       "    </tr>\n",
       "    <tr>\n",
       "      <th>230</th>\n",
       "      <td>93027-1</td>\n",
       "      <td>Are you a refugee?</td>\n",
       "      <td>8866</td>\n",
       "    </tr>\n",
       "    <tr>\n",
       "      <th>232</th>\n",
       "      <td>93029-7</td>\n",
       "      <td>How often do you see or talk to people that yo...</td>\n",
       "      <td>8866</td>\n",
       "    </tr>\n",
       "    <tr>\n",
       "      <th>231</th>\n",
       "      <td>93028-9</td>\n",
       "      <td>In the past year  have you spent more than 2 n...</td>\n",
       "      <td>8866</td>\n",
       "    </tr>\n",
       "    <tr>\n",
       "      <th>229</th>\n",
       "      <td>93026-3</td>\n",
       "      <td>Do you feel physically and emotionally safe wh...</td>\n",
       "      <td>8866</td>\n",
       "    </tr>\n",
       "    <tr>\n",
       "      <th>104</th>\n",
       "      <td>54899-0</td>\n",
       "      <td>What language are you most comfortable speaking?</td>\n",
       "      <td>8866</td>\n",
       "    </tr>\n",
       "    <tr>\n",
       "      <th>108</th>\n",
       "      <td>56799-0</td>\n",
       "      <td>What address do you live at?</td>\n",
       "      <td>8866</td>\n",
       "    </tr>\n",
       "    <tr>\n",
       "      <th>107</th>\n",
       "      <td>56051-6</td>\n",
       "      <td>Are you Hispanic or Latino?</td>\n",
       "      <td>8866</td>\n",
       "    </tr>\n",
       "    <tr>\n",
       "      <th>234</th>\n",
       "      <td>93031-3</td>\n",
       "      <td>In the past year  have you or any family membe...</td>\n",
       "      <td>8866</td>\n",
       "    </tr>\n",
       "    <tr>\n",
       "      <th>181</th>\n",
       "      <td>76437-3</td>\n",
       "      <td>What is your main insurance?</td>\n",
       "      <td>8866</td>\n",
       "    </tr>\n",
       "    <tr>\n",
       "      <th>182</th>\n",
       "      <td>76501-6</td>\n",
       "      <td>In the past year  have you been afraid of your...</td>\n",
       "      <td>8866</td>\n",
       "    </tr>\n",
       "    <tr>\n",
       "      <th>197</th>\n",
       "      <td>82589-3</td>\n",
       "      <td>What is the highest level of school that you h...</td>\n",
       "      <td>8866</td>\n",
       "    </tr>\n",
       "    <tr>\n",
       "      <th>233</th>\n",
       "      <td>93030-5</td>\n",
       "      <td>Has lack of transportation kept you from medic...</td>\n",
       "      <td>8866</td>\n",
       "    </tr>\n",
       "    <tr>\n",
       "      <th>81</th>\n",
       "      <td>32624-9</td>\n",
       "      <td>Which race(s) are you?</td>\n",
       "      <td>8866</td>\n",
       "    </tr>\n",
       "    <tr>\n",
       "      <th>146</th>\n",
       "      <td>63586-2</td>\n",
       "      <td>During the past year  what was the total combi...</td>\n",
       "      <td>8866</td>\n",
       "    </tr>\n",
       "  </tbody>\n",
       "</table>\n",
       "</div>"
      ],
      "text/plain": [
       "        CODE                                        DESCRIPTION  count\n",
       "171  72514-3  Pain severity - 0-10 verbal numeric rating [Sc...  14514\n",
       "201   8462-4                           Diastolic Blood Pressure  14444\n",
       "203   8480-6                            Systolic Blood Pressure  14444\n",
       "67   29463-7                                        Body Weight  13252\n",
       "228   9279-1                                   Respiratory rate  12991\n",
       "215   8867-4                                         Heart rate  12991\n",
       "199   8302-2                                        Body Height  12676\n",
       "170  72166-2                        Tobacco smoking status NHIS  12643\n",
       "92   39156-5                                    Body Mass Index  11549\n",
       "167  71802-3                                     Housing status   8929\n",
       "168  71802-3              What is your housing situation today?   8929\n",
       "230  93027-1                                 Are you a refugee?   8866\n",
       "232  93029-7  How often do you see or talk to people that yo...   8866\n",
       "231  93028-9  In the past year  have you spent more than 2 n...   8866\n",
       "229  93026-3  Do you feel physically and emotionally safe wh...   8866\n",
       "104  54899-0   What language are you most comfortable speaking?   8866\n",
       "108  56799-0                       What address do you live at?   8866\n",
       "107  56051-6                        Are you Hispanic or Latino?   8866\n",
       "234  93031-3  In the past year  have you or any family membe...   8866\n",
       "181  76437-3                       What is your main insurance?   8866\n",
       "182  76501-6  In the past year  have you been afraid of your...   8866\n",
       "197  82589-3  What is the highest level of school that you h...   8866\n",
       "233  93030-5  Has lack of transportation kept you from medic...   8866\n",
       "81   32624-9                             Which race(s) are you?   8866\n",
       "146  63586-2  During the past year  what was the total combi...   8866"
      ]
     },
     "execution_count": 36,
     "metadata": {},
     "output_type": "execute_result"
    }
   ],
   "source": [
    "# Display the top ten most common laboratory measurements.\n",
    "g = ['CODE', 'DESCRIPTION']\n",
    "df_obs.groupby(g).size().reset_index(name='count').sort_values('count', ascending=False).head(25)"
   ]
  },
  {
   "cell_type": "code",
   "execution_count": 37,
   "id": "57e956ae-0c96-40fb-9c56-13a58968a8f0",
   "metadata": {},
   "outputs": [
    {
     "data": {
      "text/html": [
       "<div>\n",
       "<style scoped>\n",
       "    .dataframe tbody tr th:only-of-type {\n",
       "        vertical-align: middle;\n",
       "    }\n",
       "\n",
       "    .dataframe tbody tr th {\n",
       "        vertical-align: top;\n",
       "    }\n",
       "\n",
       "    .dataframe thead th {\n",
       "        text-align: right;\n",
       "    }\n",
       "</style>\n",
       "<table border=\"1\" class=\"dataframe\">\n",
       "  <thead>\n",
       "    <tr style=\"text-align: right;\">\n",
       "      <th></th>\n",
       "      <th>CODE</th>\n",
       "      <th>DESCRIPTION</th>\n",
       "      <th>count</th>\n",
       "    </tr>\n",
       "  </thead>\n",
       "  <tbody>\n",
       "    <tr>\n",
       "      <th>55</th>\n",
       "      <td>26464-8</td>\n",
       "      <td>White Blood Cell (Elevated)</td>\n",
       "      <td>4</td>\n",
       "    </tr>\n",
       "    <tr>\n",
       "      <th>1</th>\n",
       "      <td>10480-2</td>\n",
       "      <td>Estrogen+Progesterone receptor Ag [Presence] i...</td>\n",
       "      <td>4</td>\n",
       "    </tr>\n",
       "    <tr>\n",
       "      <th>94</th>\n",
       "      <td>42719-5</td>\n",
       "      <td>Total Bilirubin (Elevated)</td>\n",
       "      <td>4</td>\n",
       "    </tr>\n",
       "    <tr>\n",
       "      <th>210</th>\n",
       "      <td>85352-3</td>\n",
       "      <td>Lymph nodes with isolated tumor cells [#] in C...</td>\n",
       "      <td>3</td>\n",
       "    </tr>\n",
       "    <tr>\n",
       "      <th>43</th>\n",
       "      <td>21924-6</td>\n",
       "      <td>Tumor marker Cancer</td>\n",
       "      <td>2</td>\n",
       "    </tr>\n",
       "    <tr>\n",
       "      <th>93</th>\n",
       "      <td>417181009</td>\n",
       "      <td>Estrogen+Progesterone receptor Ag [Presence] i...</td>\n",
       "      <td>2</td>\n",
       "    </tr>\n",
       "    <tr>\n",
       "      <th>208</th>\n",
       "      <td>85343-2</td>\n",
       "      <td>Lymph nodes with macrometastases [#] in Cancer...</td>\n",
       "      <td>2</td>\n",
       "    </tr>\n",
       "    <tr>\n",
       "      <th>209</th>\n",
       "      <td>85344-0</td>\n",
       "      <td>Lymph nodes with micrometastases [#] in Cancer...</td>\n",
       "      <td>2</td>\n",
       "    </tr>\n",
       "    <tr>\n",
       "      <th>71</th>\n",
       "      <td>3016-3</td>\n",
       "      <td>Thyrotropin [Units/volume] in Serum or Plasma</td>\n",
       "      <td>1</td>\n",
       "    </tr>\n",
       "    <tr>\n",
       "      <th>72</th>\n",
       "      <td>3024-7</td>\n",
       "      <td>Thyroxine (T4) free [Mass/volume] in Serum or ...</td>\n",
       "      <td>1</td>\n",
       "    </tr>\n",
       "  </tbody>\n",
       "</table>\n",
       "</div>"
      ],
      "text/plain": [
       "          CODE                                        DESCRIPTION  count\n",
       "55     26464-8                        White Blood Cell (Elevated)      4\n",
       "1      10480-2  Estrogen+Progesterone receptor Ag [Presence] i...      4\n",
       "94     42719-5                         Total Bilirubin (Elevated)      4\n",
       "210    85352-3  Lymph nodes with isolated tumor cells [#] in C...      3\n",
       "43     21924-6                                Tumor marker Cancer      2\n",
       "93   417181009  Estrogen+Progesterone receptor Ag [Presence] i...      2\n",
       "208    85343-2  Lymph nodes with macrometastases [#] in Cancer...      2\n",
       "209    85344-0  Lymph nodes with micrometastases [#] in Cancer...      2\n",
       "71      3016-3      Thyrotropin [Units/volume] in Serum or Plasma      1\n",
       "72      3024-7  Thyroxine (T4) free [Mass/volume] in Serum or ...      1"
      ]
     },
     "execution_count": 37,
     "metadata": {},
     "output_type": "execute_result"
    }
   ],
   "source": [
    "df_obs.groupby(g).size().reset_index(name='count').sort_values('count', ascending=False).tail(10)"
   ]
  },
  {
   "cell_type": "code",
   "execution_count": 40,
   "id": "4e4443da-83bd-475d-a5db-e1745c277244",
   "metadata": {},
   "outputs": [
    {
     "data": {
      "text/plain": [
       "(28888, 10)"
      ]
     },
     "execution_count": 40,
     "metadata": {},
     "output_type": "execute_result"
    }
   ],
   "source": [
    "diastolic_code = '8480-6'\n",
    "systolic_code = '8462-4'\n",
    "\n",
    "m = (df_obs['CODE']==diastolic_code)|(df_obs['CODE']==systolic_code)\n",
    "df_bp = df_obs[m].copy()\n",
    "df_bp.shape\n"
   ]
  },
  {
   "cell_type": "code",
   "execution_count": 41,
   "id": "324c9400-74ae-4b2f-9d3f-c153b0681e4f",
   "metadata": {},
   "outputs": [
    {
     "data": {
      "text/html": [
       "<div>\n",
       "<style scoped>\n",
       "    .dataframe tbody tr th:only-of-type {\n",
       "        vertical-align: middle;\n",
       "    }\n",
       "\n",
       "    .dataframe tbody tr th {\n",
       "        vertical-align: top;\n",
       "    }\n",
       "\n",
       "    .dataframe thead th {\n",
       "        text-align: right;\n",
       "    }\n",
       "</style>\n",
       "<table border=\"1\" class=\"dataframe\">\n",
       "  <thead>\n",
       "    <tr style=\"text-align: right;\">\n",
       "      <th></th>\n",
       "      <th>DATE</th>\n",
       "      <th>PATIENT</th>\n",
       "      <th>ENCOUNTER</th>\n",
       "      <th>CATEGORY</th>\n",
       "      <th>CODE</th>\n",
       "      <th>VALUE</th>\n",
       "      <th>UNITS</th>\n",
       "      <th>TYPE</th>\n",
       "      <th>DESCRIPTION</th>\n",
       "      <th>_merge</th>\n",
       "    </tr>\n",
       "  </thead>\n",
       "  <tbody>\n",
       "    <tr>\n",
       "      <th>5</th>\n",
       "      <td>2019-02-17 05:07:38+00:00</td>\n",
       "      <td>b9c610cd-28a6-4636-ccb6-c7a0d2a4cb85</td>\n",
       "      <td>748f8357-6cc7-551d-f31a-32fa2cf84126</td>\n",
       "      <td>vital-signs</td>\n",
       "      <td>8462-4</td>\n",
       "      <td>89.0</td>\n",
       "      <td>mm[Hg]</td>\n",
       "      <td>numeric</td>\n",
       "      <td>Diastolic Blood Pressure</td>\n",
       "      <td>both</td>\n",
       "    </tr>\n",
       "    <tr>\n",
       "      <th>6</th>\n",
       "      <td>2019-02-17 05:07:38+00:00</td>\n",
       "      <td>b9c610cd-28a6-4636-ccb6-c7a0d2a4cb85</td>\n",
       "      <td>748f8357-6cc7-551d-f31a-32fa2cf84126</td>\n",
       "      <td>vital-signs</td>\n",
       "      <td>8480-6</td>\n",
       "      <td>115.0</td>\n",
       "      <td>mm[Hg]</td>\n",
       "      <td>numeric</td>\n",
       "      <td>Systolic Blood Pressure</td>\n",
       "      <td>both</td>\n",
       "    </tr>\n",
       "    <tr>\n",
       "      <th>30</th>\n",
       "      <td>2019-03-24 05:07:38+00:00</td>\n",
       "      <td>b9c610cd-28a6-4636-ccb6-c7a0d2a4cb85</td>\n",
       "      <td>5a4735ae-423f-6563-28ab-b3d11b49b2d4</td>\n",
       "      <td>vital-signs</td>\n",
       "      <td>8462-4</td>\n",
       "      <td>71.0</td>\n",
       "      <td>mm[Hg]</td>\n",
       "      <td>numeric</td>\n",
       "      <td>Diastolic Blood Pressure</td>\n",
       "      <td>both</td>\n",
       "    </tr>\n",
       "  </tbody>\n",
       "</table>\n",
       "</div>"
      ],
      "text/plain": [
       "                        DATE                               PATIENT  \\\n",
       "5  2019-02-17 05:07:38+00:00  b9c610cd-28a6-4636-ccb6-c7a0d2a4cb85   \n",
       "6  2019-02-17 05:07:38+00:00  b9c610cd-28a6-4636-ccb6-c7a0d2a4cb85   \n",
       "30 2019-03-24 05:07:38+00:00  b9c610cd-28a6-4636-ccb6-c7a0d2a4cb85   \n",
       "\n",
       "                               ENCOUNTER     CATEGORY    CODE  VALUE   UNITS  \\\n",
       "5   748f8357-6cc7-551d-f31a-32fa2cf84126  vital-signs  8462-4   89.0  mm[Hg]   \n",
       "6   748f8357-6cc7-551d-f31a-32fa2cf84126  vital-signs  8480-6  115.0  mm[Hg]   \n",
       "30  5a4735ae-423f-6563-28ab-b3d11b49b2d4  vital-signs  8462-4   71.0  mm[Hg]   \n",
       "\n",
       "       TYPE               DESCRIPTION _merge  \n",
       "5   numeric  Diastolic Blood Pressure   both  \n",
       "6   numeric   Systolic Blood Pressure   both  \n",
       "30  numeric  Diastolic Blood Pressure   both  "
      ]
     },
     "execution_count": 41,
     "metadata": {},
     "output_type": "execute_result"
    }
   ],
   "source": [
    "df_bp.head(3)"
   ]
  },
  {
   "cell_type": "code",
   "execution_count": 42,
   "id": "d3460216-19b1-4dd6-8f96-a8faed659838",
   "metadata": {},
   "outputs": [],
   "source": [
    "df_bp['VALUE'] = df_bp['VALUE'].astype(float)"
   ]
  },
  {
   "cell_type": "code",
   "execution_count": 44,
   "id": "efd58e61-8adb-4ebd-bdf7-7acadd144ad2",
   "metadata": {},
   "outputs": [
    {
     "data": {
      "text/plain": [
       "<AxesSubplot:ylabel='Frequency'>"
      ]
     },
     "execution_count": 44,
     "metadata": {},
     "output_type": "execute_result"
    },
    {
     "data": {
      "image/png": "[encoded data removed]",
      "text/plain": [
       "<Figure size 640x480 with 1 Axes>"
      ]
     },
     "metadata": {},
     "output_type": "display_data"
    }
   ],
   "source": [
    "df_bp[df_bp['DESCRIPTION']=='Systolic Blood Pressure'].VALUE.plot(kind='hist')"
   ]
  },
  {
   "cell_type": "code",
   "execution_count": 43,
   "id": "f4e2b9d0-c802-4b4e-ad6d-ef342dad3f57",
   "metadata": {},
   "outputs": [
    {
     "data": {
      "text/plain": [
       "<AxesSubplot:ylabel='Frequency'>"
      ]
     },
     "execution_count": 43,
     "metadata": {},
     "output_type": "execute_result"
    },
    {
     "data": {
      "image/png": "[encoded data removed]",
      "text/plain": [
       "<Figure size 640x480 with 1 Axes>"
      ]
     },
     "metadata": {},
     "output_type": "display_data"
    }
   ],
   "source": [
    "df_bp[df_bp['DESCRIPTION']=='Diastolic Blood Pressure'].VALUE.plot(kind='hist')"
   ]
  },
  {
   "cell_type": "code",
   "execution_count": 45,
   "id": "d62bde0d-719c-4351-ae8f-b258613d235d",
   "metadata": {},
   "outputs": [
    {
     "data": {
      "image/png": "[encoded data removed]",
      "text/plain": [
       "<Figure size 1000x600 with 1 Axes>"
      ]
     },
     "metadata": {},
     "output_type": "display_data"
    }
   ],
   "source": [
    "import matplotlib.pyplot as plt\n",
    "plt.figure(figsize=(10, 6))\n",
    "\n",
    "for status, group in df_bp.groupby('DESCRIPTION'):\n",
    "    group['VALUE'].plot(kind='hist', alpha=0.5, label=status, bins=20, stacked=True)\n",
    "\n",
    "plt.legend()\n",
    "plt.title('Blood pressure Stratified by Disease Status')\n",
    "plt.xlabel('Measurement')  # or another relevant label for the x-axis\n",
    "plt.ylabel('Frequency')\n",
    "plt.show()"
   ]
  },
  {
   "cell_type": "code",
   "execution_count": 50,
   "id": "bcb4f8d3-309d-48ca-81f2-19eb523f3d89",
   "metadata": {},
   "outputs": [],
   "source": [
    "m = (df_bp['DESCRIPTION']=='Systolic Blood Pressure')&(df_bp['VALUE']>220)\n",
    "df_bp.drop(df_bp[m].index, inplace=True)\n",
    "m = (df_bp['DESCRIPTION']=='Diastolic Blood Pressure')&(df_bp['VALUE']<30)\n",
    "df_bp.drop(df_bp[m].index, inplace=True)"
   ]
  },
  {
   "cell_type": "code",
   "execution_count": 54,
   "id": "7cf06918-ca40-4d04-a30b-427578659709",
   "metadata": {},
   "outputs": [
    {
     "data": {
      "image/png": "[encoded data removed]",
      "text/plain": [
       "<Figure size 1000x600 with 1 Axes>"
      ]
     },
     "metadata": {},
     "output_type": "display_data"
    }
   ],
   "source": [
    "plt.figure(figsize=(10, 6))\n",
    "\n",
    "for status, group in df_bp.groupby('DESCRIPTION'):\n",
    "    group['VALUE'].plot(kind='hist', alpha=0.5, label=status, bins=30, stacked=True)\n",
    "\n",
    "plt.legend()\n",
    "plt.title('Blood pressure Stratified by Disease Status')\n",
    "plt.xlabel('Measurement')  # or another relevant label for the x-axis\n",
    "plt.ylabel('Frequency')\n",
    "plt.show()"
   ]
  },
  {
   "cell_type": "code",
   "execution_count": null,
   "id": "71d47134-b743-4904-8d61-48c05a688846",
   "metadata": {},
   "outputs": [],
   "source": []
  }
 ],
 "metadata": {
  "kernelspec": {
   "display_name": "Python 3 (ipykernel)",
   "language": "python",
   "name": "python3"
  },
  "language_info": {
   "codemirror_mode": {
    "name": "ipython",
    "version": 3
   },
   "file_extension": ".py",
   "mimetype": "text/x-python",
   "name": "python",
   "nbconvert_exporter": "python",
   "pygments_lexer": "ipython3",
   "version": "3.8.16"
  }
 },
 "nbformat": 4,
 "nbformat_minor": 5
}
