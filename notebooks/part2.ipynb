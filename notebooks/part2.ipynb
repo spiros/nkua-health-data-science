{
 "cells": [
  {
   "cell_type": "code",
   "execution_count": 47,
   "id": "d1193edc-1dd9-4369-90d8-938f13603c00",
   "metadata": {},
   "outputs": [],
   "source": [
    "import pandas as pd\n",
    "pd.set_option('display.float_format', str)"
   ]
  },
  {
   "cell_type": "code",
   "execution_count": 7,
   "id": "a21c09bb-183d-46ce-8cd2-d7987040dec9",
   "metadata": {},
   "outputs": [
    {
     "name": "stdout",
     "output_type": "stream",
     "text": [
      "(38100, 5)\n"
     ]
    }
   ],
   "source": [
    "# Import conditions file\n",
    "cond_file = \"https://github.com/spiros/nkua-health-data-science/raw/master/data/dest/conditions.csv.gz\"\n",
    "df_cond = pd.read_csv(cond_file)\n",
    "print(df_cond.shape)"
   ]
  },
  {
   "cell_type": "code",
   "execution_count": 8,
   "id": "b48ff34a-9011-4c3b-8135-c5915f1302c5",
   "metadata": {},
   "outputs": [
    {
     "data": {
      "text/html": [
       "<div>\n",
       "<style scoped>\n",
       "    .dataframe tbody tr th:only-of-type {\n",
       "        vertical-align: middle;\n",
       "    }\n",
       "\n",
       "    .dataframe tbody tr th {\n",
       "        vertical-align: top;\n",
       "    }\n",
       "\n",
       "    .dataframe thead th {\n",
       "        text-align: right;\n",
       "    }\n",
       "</style>\n",
       "<table border=\"1\" class=\"dataframe\">\n",
       "  <thead>\n",
       "    <tr style=\"text-align: right;\">\n",
       "      <th></th>\n",
       "      <th>START</th>\n",
       "      <th>STOP</th>\n",
       "      <th>PATIENT</th>\n",
       "      <th>ENCOUNTER</th>\n",
       "      <th>CODE</th>\n",
       "    </tr>\n",
       "  </thead>\n",
       "  <tbody>\n",
       "    <tr>\n",
       "      <th>0</th>\n",
       "      <td>2013-06-24</td>\n",
       "      <td>2013-07-02</td>\n",
       "      <td>c1f1fcaa-82fd-d5b7-3544-c8f9708b06a8</td>\n",
       "      <td>0b2794bd-ec2b-d34f-0610-2523b3b7fcf0</td>\n",
       "      <td>10509002.0</td>\n",
       "    </tr>\n",
       "    <tr>\n",
       "      <th>1</th>\n",
       "      <td>2016-02-27</td>\n",
       "      <td>2016-03-14</td>\n",
       "      <td>c1f1fcaa-82fd-d5b7-3544-c8f9708b06a8</td>\n",
       "      <td>a6d818dd-0983-fd1c-eefa-3d2295532c45</td>\n",
       "      <td>283371005.0</td>\n",
       "    </tr>\n",
       "    <tr>\n",
       "      <th>2</th>\n",
       "      <td>2016-08-11</td>\n",
       "      <td>2016-08-22</td>\n",
       "      <td>c1f1fcaa-82fd-d5b7-3544-c8f9708b06a8</td>\n",
       "      <td>36d2e781-4655-0a11-1f70-c69856e02019</td>\n",
       "      <td>444814009.0</td>\n",
       "    </tr>\n",
       "  </tbody>\n",
       "</table>\n",
       "</div>"
      ],
      "text/plain": [
       "        START        STOP                               PATIENT  \\\n",
       "0  2013-06-24  2013-07-02  c1f1fcaa-82fd-d5b7-3544-c8f9708b06a8   \n",
       "1  2016-02-27  2016-03-14  c1f1fcaa-82fd-d5b7-3544-c8f9708b06a8   \n",
       "2  2016-08-11  2016-08-22  c1f1fcaa-82fd-d5b7-3544-c8f9708b06a8   \n",
       "\n",
       "                              ENCOUNTER         CODE  \n",
       "0  0b2794bd-ec2b-d34f-0610-2523b3b7fcf0   10509002.0  \n",
       "1  a6d818dd-0983-fd1c-eefa-3d2295532c45  283371005.0  \n",
       "2  36d2e781-4655-0a11-1f70-c69856e02019  444814009.0  "
      ]
     },
     "execution_count": 8,
     "metadata": {},
     "output_type": "execute_result"
    }
   ],
   "source": [
    "df_cond.head(3)"
   ]
  },
  {
   "cell_type": "code",
   "execution_count": 16,
   "id": "802eb4a1-5d83-4d73-b04b-936da4c77e58",
   "metadata": {},
   "outputs": [
    {
     "data": {
      "text/plain": [
       "START        datetime64[ns]\n",
       "STOP                 object\n",
       "PATIENT              object\n",
       "ENCOUNTER            object\n",
       "CODE                float64\n",
       "dtype: object"
      ]
     },
     "execution_count": 16,
     "metadata": {},
     "output_type": "execute_result"
    }
   ],
   "source": [
    "# Print the data types\n",
    "df_cond.dtypes"
   ]
  },
  {
   "cell_type": "code",
   "execution_count": 17,
   "id": "b736b637-a9cf-46b0-a2d8-04d933ac0ae9",
   "metadata": {},
   "outputs": [
    {
     "name": "stdout",
     "output_type": "stream",
     "text": [
      "Empty DataFrame\n",
      "Columns: [START, STOP, PATIENT, ENCOUNTER, CODE]\n",
      "Index: []\n"
     ]
    }
   ],
   "source": [
    "# Convert the START and STOP columns to datetime objects.\n",
    "# Check how many dates of admission were set to NA because\n",
    "# they were incorrect.\n",
    "\n",
    "df_cond['START'] = pd.to_datetime(\n",
    "    df_cond['START'],\n",
    "    errors='coerce'\n",
    ")\n",
    "\n",
    "df_cond['START'] = pd.to_datetime(\n",
    "    df_cond['START'],\n",
    "    errors='coerce'\n",
    ")\n",
    "\n",
    "print(df_cond[df_cond['START'].isna()])"
   ]
  },
  {
   "cell_type": "code",
   "execution_count": null,
   "id": "4260b3e0-1958-4112-b5fd-ffb48abc7c31",
   "metadata": {},
   "outputs": [],
   "source": [
    "# Set the dtype of the SNOMED code to a string\n"
   ]
  },
  {
   "cell_type": "code",
   "execution_count": 23,
   "id": "457e2af4-69c4-4e24-9263-a2c53fa516e6",
   "metadata": {},
   "outputs": [
    {
     "data": {
      "text/plain": [
       "204"
      ]
     },
     "execution_count": 23,
     "metadata": {},
     "output_type": "execute_result"
    }
   ],
   "source": [
    "# Count the number of unique diagnosis codes.\n",
    "df_cond.CODE.nunique()"
   ]
  },
  {
   "cell_type": "code",
   "execution_count": 24,
   "id": "0e01b7a9-97ec-4dbc-979d-d50b290fde7b",
   "metadata": {},
   "outputs": [
    {
     "data": {
      "text/plain": [
       "1147"
      ]
     },
     "execution_count": 24,
     "metadata": {},
     "output_type": "execute_result"
    }
   ],
   "source": [
    "# Count the number of unique patients codes.\n",
    "df_cond.PATIENT.nunique()"
   ]
  },
  {
   "cell_type": "code",
   "execution_count": 25,
   "id": "c8d7c852-0593-4688-bf89-bc7ce04e7fbe",
   "metadata": {},
   "outputs": [
    {
     "data": {
      "text/plain": [
       "26904"
      ]
     },
     "execution_count": 25,
     "metadata": {},
     "output_type": "execute_result"
    }
   ],
   "source": [
    "# Count the number of unique encounters\n",
    "df_cond.ENCOUNTER.nunique()"
   ]
  },
  {
   "cell_type": "code",
   "execution_count": 26,
   "id": "081565a9-7476-4290-953b-1a810ead586f",
   "metadata": {},
   "outputs": [
    {
     "name": "stdout",
     "output_type": "stream",
     "text": [
      "20\n",
      "20\n"
     ]
    }
   ],
   "source": [
    "# Counte number of encounters that are missing a diagnosis code.\n",
    "print(df_cond[df_cond['CODE'].isna()].ENCOUNTER.nunique())\n",
    "print(df_cond[df_cond['CODE'].isna()].PATIENT.nunique())"
   ]
  },
  {
   "cell_type": "code",
   "execution_count": 32,
   "id": "7d02e050-0ba5-4b84-9b7e-6bb68b55c7d6",
   "metadata": {},
   "outputs": [
    {
     "name": "stdout",
     "output_type": "stream",
     "text": [
      "(204, 2)\n"
     ]
    }
   ],
   "source": [
    "# Import the SNOMED dictionary\n",
    "snomed_file = \"https://github.com/spiros/nkua-health-data-science/raw/master/data/dest/dictionary_snomed.csv\"\n",
    "df_snomed = pd.read_csv(snomed_file)\n",
    "print(df_snomed.shape)"
   ]
  },
  {
   "cell_type": "code",
   "execution_count": 33,
   "id": "50d5e7f7-c48b-41ac-b2d7-28a1ccb224b1",
   "metadata": {},
   "outputs": [
    {
     "data": {
      "text/html": [
       "<div>\n",
       "<style scoped>\n",
       "    .dataframe tbody tr th:only-of-type {\n",
       "        vertical-align: middle;\n",
       "    }\n",
       "\n",
       "    .dataframe tbody tr th {\n",
       "        vertical-align: top;\n",
       "    }\n",
       "\n",
       "    .dataframe thead th {\n",
       "        text-align: right;\n",
       "    }\n",
       "</style>\n",
       "<table border=\"1\" class=\"dataframe\">\n",
       "  <thead>\n",
       "    <tr style=\"text-align: right;\">\n",
       "      <th></th>\n",
       "      <th>CODE</th>\n",
       "      <th>DESCRIPTION</th>\n",
       "    </tr>\n",
       "  </thead>\n",
       "  <tbody>\n",
       "    <tr>\n",
       "      <th>0</th>\n",
       "      <td>10509002</td>\n",
       "      <td>Acute bronchitis (disorder)</td>\n",
       "    </tr>\n",
       "    <tr>\n",
       "      <th>1</th>\n",
       "      <td>283371005</td>\n",
       "      <td>Laceration of forearm</td>\n",
       "    </tr>\n",
       "    <tr>\n",
       "      <th>2</th>\n",
       "      <td>444814009</td>\n",
       "      <td>Viral sinusitis (disorder)</td>\n",
       "    </tr>\n",
       "  </tbody>\n",
       "</table>\n",
       "</div>"
      ],
      "text/plain": [
       "        CODE                  DESCRIPTION\n",
       "0   10509002  Acute bronchitis (disorder)\n",
       "1  283371005        Laceration of forearm\n",
       "2  444814009   Viral sinusitis (disorder)"
      ]
     },
     "execution_count": 33,
     "metadata": {},
     "output_type": "execute_result"
    }
   ],
   "source": [
    "df_snomed.head(3)"
   ]
  },
  {
   "cell_type": "code",
   "execution_count": 34,
   "id": "4677fabe-bcb1-4bbf-98cc-a00dac8c078b",
   "metadata": {},
   "outputs": [
    {
     "data": {
      "text/plain": [
       "202"
      ]
     },
     "execution_count": 34,
     "metadata": {},
     "output_type": "execute_result"
    }
   ],
   "source": [
    "df_snomed.CODE.nunique()"
   ]
  },
  {
   "cell_type": "code",
   "execution_count": 37,
   "id": "e6cea6c4-4b26-4e5d-8672-b1ea735d4344",
   "metadata": {},
   "outputs": [
    {
     "data": {
      "text/plain": [
       "(0, 2)"
      ]
     },
     "execution_count": 37,
     "metadata": {},
     "output_type": "execute_result"
    }
   ],
   "source": [
    "# Count the number of rows where the CODE \n",
    "# or DESCRIPTION values are missing\n",
    "df_snomed[df_snomed.CODE.isna()].shape"
   ]
  },
  {
   "cell_type": "code",
   "execution_count": 38,
   "id": "1b428c80-ed02-45e8-a73b-51857f83058f",
   "metadata": {},
   "outputs": [
    {
     "data": {
      "text/plain": [
       "(0, 2)"
      ]
     },
     "execution_count": 38,
     "metadata": {},
     "output_type": "execute_result"
    }
   ],
   "source": [
    "df_snomed[df_snomed.DESCRIPTION.isna()].shape"
   ]
  },
  {
   "cell_type": "code",
   "execution_count": 59,
   "id": "265d6eaf-04b6-4243-ad81-eef778aee9a1",
   "metadata": {},
   "outputs": [],
   "source": [
    "# Merge SNOMED dictionary with the conditions table.\n",
    "# Use a left merge on the conditions table as to retain\n",
    "# all information on the encounters that patients have had.\n",
    "df_cond_merged = df_cond.merge(\n",
    "    df_snomed,\n",
    "    how='left',\n",
    "    left_on='CODE',\n",
    "    right_on='CODE',\n",
    "    indicator=True\n",
    ")"
   ]
  },
  {
   "cell_type": "code",
   "execution_count": 63,
   "id": "0701e142-f12e-4e4a-ba42-51915aa7f18a",
   "metadata": {},
   "outputs": [
    {
     "name": "stdout",
     "output_type": "stream",
     "text": [
      "_merge\n",
      "both          38107\n",
      "left_only        63\n",
      "right_only        0\n",
      "Name: count, dtype: int64\n",
      "25\n",
      "26\n"
     ]
    }
   ],
   "source": [
    "# Display invalid SNOMED codes and the number of patients and hospitalizations\n",
    "# that these codes affect.\n",
    "\n",
    "print(df_cond_merged._merge.value_counts())\n",
    "print(df_cond_merged[df_cond_merged['DESCRIPTION'].isna()].PATIENT.nunique())\n",
    "print(df_cond_merged[df_cond_merged['DESCRIPTION'].isna()].ENCOUNTER.nunique())"
   ]
  },
  {
   "cell_type": "code",
   "execution_count": 66,
   "id": "79204426-0f83-4839-9be0-10f6cd715d3f",
   "metadata": {},
   "outputs": [
    {
     "data": {
      "text/html": [
       "<div>\n",
       "<style scoped>\n",
       "    .dataframe tbody tr th:only-of-type {\n",
       "        vertical-align: middle;\n",
       "    }\n",
       "\n",
       "    .dataframe tbody tr th {\n",
       "        vertical-align: top;\n",
       "    }\n",
       "\n",
       "    .dataframe thead th {\n",
       "        text-align: right;\n",
       "    }\n",
       "</style>\n",
       "<table border=\"1\" class=\"dataframe\">\n",
       "  <thead>\n",
       "    <tr style=\"text-align: right;\">\n",
       "      <th></th>\n",
       "      <th>CODE</th>\n",
       "      <th>DESCRIPTION</th>\n",
       "      <th>count</th>\n",
       "    </tr>\n",
       "  </thead>\n",
       "  <tbody>\n",
       "    <tr>\n",
       "      <th>89</th>\n",
       "      <td>160903007.0</td>\n",
       "      <td>Full-time employment (finding)</td>\n",
       "      <td>13793</td>\n",
       "    </tr>\n",
       "    <tr>\n",
       "      <th>57</th>\n",
       "      <td>73595000.0</td>\n",
       "      <td>Stress (finding)</td>\n",
       "      <td>5131</td>\n",
       "    </tr>\n",
       "    <tr>\n",
       "      <th>90</th>\n",
       "      <td>160904001.0</td>\n",
       "      <td>Part-time employment (finding)</td>\n",
       "      <td>2422</td>\n",
       "    </tr>\n",
       "    <tr>\n",
       "      <th>166</th>\n",
       "      <td>422650009.0</td>\n",
       "      <td>Social isolation (finding)</td>\n",
       "      <td>1240</td>\n",
       "    </tr>\n",
       "    <tr>\n",
       "      <th>180</th>\n",
       "      <td>444814009.0</td>\n",
       "      <td>Viral sinusitis (disorder)</td>\n",
       "      <td>1235</td>\n",
       "    </tr>\n",
       "    <tr>\n",
       "      <th>167</th>\n",
       "      <td>423315002.0</td>\n",
       "      <td>Limited social contact (finding)</td>\n",
       "      <td>1197</td>\n",
       "    </tr>\n",
       "    <tr>\n",
       "      <th>190</th>\n",
       "      <td>741062008.0</td>\n",
       "      <td>Not in labor force (finding)</td>\n",
       "      <td>1076</td>\n",
       "    </tr>\n",
       "    <tr>\n",
       "      <th>187</th>\n",
       "      <td>706893006.0</td>\n",
       "      <td>Victim of intimate partner abuse (finding)</td>\n",
       "      <td>818</td>\n",
       "    </tr>\n",
       "    <tr>\n",
       "      <th>98</th>\n",
       "      <td>195662009.0</td>\n",
       "      <td>Acute viral pharyngitis (disorder)</td>\n",
       "      <td>678</td>\n",
       "    </tr>\n",
       "    <tr>\n",
       "      <th>4</th>\n",
       "      <td>10509002.0</td>\n",
       "      <td>Acute bronchitis (disorder)</td>\n",
       "      <td>571</td>\n",
       "    </tr>\n",
       "    <tr>\n",
       "      <th>169</th>\n",
       "      <td>424393004.0</td>\n",
       "      <td>Reports of violence in the environment (finding)</td>\n",
       "      <td>562</td>\n",
       "    </tr>\n",
       "    <tr>\n",
       "      <th>55</th>\n",
       "      <td>72892002.0</td>\n",
       "      <td>Normal pregnancy</td>\n",
       "      <td>526</td>\n",
       "    </tr>\n",
       "    <tr>\n",
       "      <th>107</th>\n",
       "      <td>224299000.0</td>\n",
       "      <td>Received higher education (finding)</td>\n",
       "      <td>523</td>\n",
       "    </tr>\n",
       "    <tr>\n",
       "      <th>94</th>\n",
       "      <td>162864005.0</td>\n",
       "      <td>Body mass index 30+ - obesity (finding)</td>\n",
       "      <td>463</td>\n",
       "    </tr>\n",
       "    <tr>\n",
       "      <th>91</th>\n",
       "      <td>160968000.0</td>\n",
       "      <td>Risk activity involvement (finding)</td>\n",
       "      <td>392</td>\n",
       "    </tr>\n",
       "    <tr>\n",
       "      <th>6</th>\n",
       "      <td>15777000.0</td>\n",
       "      <td>Prediabetes</td>\n",
       "      <td>341</td>\n",
       "    </tr>\n",
       "    <tr>\n",
       "      <th>136</th>\n",
       "      <td>271737000.0</td>\n",
       "      <td>Anemia (disorder)</td>\n",
       "      <td>324</td>\n",
       "    </tr>\n",
       "    <tr>\n",
       "      <th>40</th>\n",
       "      <td>59621000.0</td>\n",
       "      <td>Hypertension</td>\n",
       "      <td>292</td>\n",
       "    </tr>\n",
       "    <tr>\n",
       "      <th>197</th>\n",
       "      <td>5251000175109.0</td>\n",
       "      <td>Received certificate of high school equivalenc...</td>\n",
       "      <td>264</td>\n",
       "    </tr>\n",
       "    <tr>\n",
       "      <th>23</th>\n",
       "      <td>40055000.0</td>\n",
       "      <td>Chronic sinusitis (disorder)</td>\n",
       "      <td>219</td>\n",
       "    </tr>\n",
       "    <tr>\n",
       "      <th>45</th>\n",
       "      <td>65363002.0</td>\n",
       "      <td>Otitis media</td>\n",
       "      <td>217</td>\n",
       "    </tr>\n",
       "    <tr>\n",
       "      <th>132</th>\n",
       "      <td>266948004.0</td>\n",
       "      <td>Has a criminal record (finding)</td>\n",
       "      <td>206</td>\n",
       "    </tr>\n",
       "    <tr>\n",
       "      <th>8</th>\n",
       "      <td>19169002.0</td>\n",
       "      <td>Miscarriage in first trimester</td>\n",
       "      <td>203</td>\n",
       "    </tr>\n",
       "    <tr>\n",
       "      <th>139</th>\n",
       "      <td>278860009.0</td>\n",
       "      <td>Chronic low back pain (finding)</td>\n",
       "      <td>195</td>\n",
       "    </tr>\n",
       "    <tr>\n",
       "      <th>203</th>\n",
       "      <td>1.0939881000119104e+16</td>\n",
       "      <td>Unhealthy alcohol drinking behavior (finding)</td>\n",
       "      <td>170</td>\n",
       "    </tr>\n",
       "  </tbody>\n",
       "</table>\n",
       "</div>"
      ],
      "text/plain": [
       "                      CODE                                        DESCRIPTION  \\\n",
       "89             160903007.0                     Full-time employment (finding)   \n",
       "57              73595000.0                                   Stress (finding)   \n",
       "90             160904001.0                     Part-time employment (finding)   \n",
       "166            422650009.0                         Social isolation (finding)   \n",
       "180            444814009.0                         Viral sinusitis (disorder)   \n",
       "167            423315002.0                   Limited social contact (finding)   \n",
       "190            741062008.0                       Not in labor force (finding)   \n",
       "187            706893006.0         Victim of intimate partner abuse (finding)   \n",
       "98             195662009.0                 Acute viral pharyngitis (disorder)   \n",
       "4               10509002.0                        Acute bronchitis (disorder)   \n",
       "169            424393004.0   Reports of violence in the environment (finding)   \n",
       "55              72892002.0                                   Normal pregnancy   \n",
       "107            224299000.0                Received higher education (finding)   \n",
       "94             162864005.0            Body mass index 30+ - obesity (finding)   \n",
       "91             160968000.0                Risk activity involvement (finding)   \n",
       "6               15777000.0                                        Prediabetes   \n",
       "136            271737000.0                                  Anemia (disorder)   \n",
       "40              59621000.0                                       Hypertension   \n",
       "197        5251000175109.0  Received certificate of high school equivalenc...   \n",
       "23              40055000.0                       Chronic sinusitis (disorder)   \n",
       "45              65363002.0                                       Otitis media   \n",
       "132            266948004.0                    Has a criminal record (finding)   \n",
       "8               19169002.0                     Miscarriage in first trimester   \n",
       "139            278860009.0                    Chronic low back pain (finding)   \n",
       "203 1.0939881000119104e+16      Unhealthy alcohol drinking behavior (finding)   \n",
       "\n",
       "     count  \n",
       "89   13793  \n",
       "57    5131  \n",
       "90    2422  \n",
       "166   1240  \n",
       "180   1235  \n",
       "167   1197  \n",
       "190   1076  \n",
       "187    818  \n",
       "98     678  \n",
       "4      571  \n",
       "169    562  \n",
       "55     526  \n",
       "107    523  \n",
       "94     463  \n",
       "91     392  \n",
       "6      341  \n",
       "136    324  \n",
       "40     292  \n",
       "197    264  \n",
       "23     219  \n",
       "45     217  \n",
       "132    206  \n",
       "8      203  \n",
       "139    195  \n",
       "203    170  "
      ]
     },
     "execution_count": 66,
     "metadata": {},
     "output_type": "execute_result"
    }
   ],
   "source": [
    "# Display the top ten most common diagnoses.\n",
    "g = ['CODE', 'DESCRIPTION']\n",
    "df_cond_merged.groupby(g).size().reset_index(name='count').sort_values('count', ascending=False).head(25)"
   ]
  },
  {
   "cell_type": "code",
   "execution_count": 65,
   "id": "ef65d855-498c-4679-87ea-1f022e3508d8",
   "metadata": {},
   "outputs": [
    {
     "data": {
      "text/html": [
       "<div>\n",
       "<style scoped>\n",
       "    .dataframe tbody tr th:only-of-type {\n",
       "        vertical-align: middle;\n",
       "    }\n",
       "\n",
       "    .dataframe tbody tr th {\n",
       "        vertical-align: top;\n",
       "    }\n",
       "\n",
       "    .dataframe thead th {\n",
       "        text-align: right;\n",
       "    }\n",
       "</style>\n",
       "<table border=\"1\" class=\"dataframe\">\n",
       "  <thead>\n",
       "    <tr style=\"text-align: right;\">\n",
       "      <th></th>\n",
       "      <th>CODE</th>\n",
       "      <th>DESCRIPTION</th>\n",
       "      <th>count</th>\n",
       "    </tr>\n",
       "  </thead>\n",
       "  <tbody>\n",
       "    <tr>\n",
       "      <th>0</th>\n",
       "      <td>1734006.0</td>\n",
       "      <td>Fracture of the vertebral column with spinal c...</td>\n",
       "      <td>1</td>\n",
       "    </tr>\n",
       "    <tr>\n",
       "      <th>61</th>\n",
       "      <td>76916001.0</td>\n",
       "      <td>Spina bifida occulta (disorder)</td>\n",
       "      <td>1</td>\n",
       "    </tr>\n",
       "    <tr>\n",
       "      <th>70</th>\n",
       "      <td>86175003.0</td>\n",
       "      <td>Injury of heart (disorder)</td>\n",
       "      <td>1</td>\n",
       "    </tr>\n",
       "    <tr>\n",
       "      <th>88</th>\n",
       "      <td>157265008.0</td>\n",
       "      <td>Dislocation of hip joint (disorder)</td>\n",
       "      <td>1</td>\n",
       "    </tr>\n",
       "    <tr>\n",
       "      <th>92</th>\n",
       "      <td>161622006.0</td>\n",
       "      <td>History of lower limb amputation (situation)</td>\n",
       "      <td>1</td>\n",
       "    </tr>\n",
       "    <tr>\n",
       "      <th>96</th>\n",
       "      <td>190905008.0</td>\n",
       "      <td>Cystic Fibrosis</td>\n",
       "      <td>1</td>\n",
       "    </tr>\n",
       "    <tr>\n",
       "      <th>109</th>\n",
       "      <td>225444004.0</td>\n",
       "      <td>At risk for suicide (finding)</td>\n",
       "      <td>1</td>\n",
       "    </tr>\n",
       "    <tr>\n",
       "      <th>30</th>\n",
       "      <td>45816000.0</td>\n",
       "      <td>Pyelonephritis</td>\n",
       "      <td>1</td>\n",
       "    </tr>\n",
       "    <tr>\n",
       "      <th>116</th>\n",
       "      <td>234466008.0</td>\n",
       "      <td>Acquired coagulation disorder (disorder)</td>\n",
       "      <td>1</td>\n",
       "    </tr>\n",
       "    <tr>\n",
       "      <th>24</th>\n",
       "      <td>40095003.0</td>\n",
       "      <td>Injury of kidney (disorder)</td>\n",
       "      <td>1</td>\n",
       "    </tr>\n",
       "    <tr>\n",
       "      <th>152</th>\n",
       "      <td>370143000.0</td>\n",
       "      <td>Major depression disorder</td>\n",
       "      <td>1</td>\n",
       "    </tr>\n",
       "    <tr>\n",
       "      <th>170</th>\n",
       "      <td>425048006.0</td>\n",
       "      <td>Non-small cell carcinoma of lung  TNM stage 2 ...</td>\n",
       "      <td>1</td>\n",
       "    </tr>\n",
       "    <tr>\n",
       "      <th>171</th>\n",
       "      <td>427089005.0</td>\n",
       "      <td>Male Infertility</td>\n",
       "      <td>1</td>\n",
       "    </tr>\n",
       "    <tr>\n",
       "      <th>121</th>\n",
       "      <td>239720000.0</td>\n",
       "      <td>Tear of meniscus of knee</td>\n",
       "      <td>1</td>\n",
       "    </tr>\n",
       "    <tr>\n",
       "      <th>195</th>\n",
       "      <td>1501000119109.0</td>\n",
       "      <td>Proliferative diabetic retinopathy due to type...</td>\n",
       "      <td>1</td>\n",
       "    </tr>\n",
       "  </tbody>\n",
       "</table>\n",
       "</div>"
      ],
      "text/plain": [
       "               CODE                                        DESCRIPTION  count\n",
       "0         1734006.0  Fracture of the vertebral column with spinal c...      1\n",
       "61       76916001.0                    Spina bifida occulta (disorder)      1\n",
       "70       86175003.0                         Injury of heart (disorder)      1\n",
       "88      157265008.0                Dislocation of hip joint (disorder)      1\n",
       "92      161622006.0       History of lower limb amputation (situation)      1\n",
       "96      190905008.0                                    Cystic Fibrosis      1\n",
       "109     225444004.0                      At risk for suicide (finding)      1\n",
       "30       45816000.0                                     Pyelonephritis      1\n",
       "116     234466008.0           Acquired coagulation disorder (disorder)      1\n",
       "24       40095003.0                        Injury of kidney (disorder)      1\n",
       "152     370143000.0                          Major depression disorder      1\n",
       "170     425048006.0  Non-small cell carcinoma of lung  TNM stage 2 ...      1\n",
       "171     427089005.0                                   Male Infertility      1\n",
       "121     239720000.0                           Tear of meniscus of knee      1\n",
       "195 1501000119109.0  Proliferative diabetic retinopathy due to type...      1"
      ]
     },
     "execution_count": 65,
     "metadata": {},
     "output_type": "execute_result"
    }
   ],
   "source": [
    "# Display the bottom ten most common diagnoses.\n",
    "df_cond_merged.groupby(g).size().reset_index(name='count').sort_values('count', ascending=True).head(15)"
   ]
  },
  {
   "cell_type": "code",
   "execution_count": null,
   "id": "10f00f8c-c535-4238-bca0-27287fc5c308",
   "metadata": {},
   "outputs": [],
   "source": []
  }
 ],
 "metadata": {
  "kernelspec": {
   "display_name": "Python 3 (ipykernel)",
   "language": "python",
   "name": "python3"
  },
  "language_info": {
   "codemirror_mode": {
    "name": "ipython",
    "version": 3
   },
   "file_extension": ".py",
   "mimetype": "text/x-python",
   "name": "python",
   "nbconvert_exporter": "python",
   "pygments_lexer": "ipython3",
   "version": "3.8.16"
  }
 },
 "nbformat": 4,
 "nbformat_minor": 5
}
