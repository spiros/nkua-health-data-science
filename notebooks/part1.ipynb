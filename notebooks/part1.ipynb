{
 "cells": [
  {
   "cell_type": "code",
   "execution_count": 74,
   "id": "acf4ddd9-187a-4d7d-997d-c08cd7cb52a1",
   "metadata": {},
   "outputs": [],
   "source": [
    "import pandas as pd"
   ]
  },
  {
   "cell_type": "code",
   "execution_count": 75,
   "id": "87193836-9c25-4faf-9b6d-95c2ea23e9c5",
   "metadata": {},
   "outputs": [],
   "source": [
    "# Import patients file\n",
    "patients_file = \"https://github.com/spiros/nkua-health-data-science/raw/master/data/dest/patients.csv.gz\"\n",
    "df_patients = pd.read_csv(patients_file)"
   ]
  },
  {
   "cell_type": "code",
   "execution_count": 76,
   "id": "d071d8d4-ee4c-4e2e-8e59-ec748ce0360b",
   "metadata": {},
   "outputs": [
    {
     "data": {
      "text/plain": [
       "(1162, 25)"
      ]
     },
     "execution_count": 76,
     "metadata": {},
     "output_type": "execute_result"
    }
   ],
   "source": [
    "# Display number of rows and values in loaded file\n",
    "df_patients.shape"
   ]
  },
  {
   "cell_type": "code",
   "execution_count": 77,
   "id": "281e44e9-665a-497d-b0a2-5ec2578b2c14",
   "metadata": {},
   "outputs": [
    {
     "data": {
      "text/html": [
       "<div>\n",
       "<style scoped>\n",
       "    .dataframe tbody tr th:only-of-type {\n",
       "        vertical-align: middle;\n",
       "    }\n",
       "\n",
       "    .dataframe tbody tr th {\n",
       "        vertical-align: top;\n",
       "    }\n",
       "\n",
       "    .dataframe thead th {\n",
       "        text-align: right;\n",
       "    }\n",
       "</style>\n",
       "<table border=\"1\" class=\"dataframe\">\n",
       "  <thead>\n",
       "    <tr style=\"text-align: right;\">\n",
       "      <th></th>\n",
       "      <th>Id</th>\n",
       "      <th>BIRTHDATE</th>\n",
       "      <th>DEATHDATE</th>\n",
       "      <th>SSN</th>\n",
       "      <th>DRIVERS</th>\n",
       "      <th>PASSPORT</th>\n",
       "      <th>PREFIX</th>\n",
       "      <th>FIRST</th>\n",
       "      <th>LAST</th>\n",
       "      <th>SUFFIX</th>\n",
       "      <th>...</th>\n",
       "      <th>BIRTHPLACE</th>\n",
       "      <th>ADDRESS</th>\n",
       "      <th>CITY</th>\n",
       "      <th>STATE</th>\n",
       "      <th>COUNTY</th>\n",
       "      <th>ZIP</th>\n",
       "      <th>LAT</th>\n",
       "      <th>LON</th>\n",
       "      <th>HEALTHCARE_EXPENSES</th>\n",
       "      <th>HEALTHCARE_COVERAGE</th>\n",
       "    </tr>\n",
       "  </thead>\n",
       "  <tbody>\n",
       "    <tr>\n",
       "      <th>0</th>\n",
       "      <td>b9c610cd-28a6-4636-ccb6-c7a0d2a4cb85</td>\n",
       "      <td>2019-02-17</td>\n",
       "      <td>NaN</td>\n",
       "      <td>999-65-3251</td>\n",
       "      <td>NaN</td>\n",
       "      <td>NaN</td>\n",
       "      <td>NaN</td>\n",
       "      <td>Damon455</td>\n",
       "      <td>Langosh790</td>\n",
       "      <td>NaN</td>\n",
       "      <td>...</td>\n",
       "      <td>Middleborough  Massachusetts  US</td>\n",
       "      <td>620 Lynch Tunnel Apt 0</td>\n",
       "      <td>Springfield</td>\n",
       "      <td>Massachusetts</td>\n",
       "      <td>Hampden County</td>\n",
       "      <td>1104.0</td>\n",
       "      <td>42.080389</td>\n",
       "      <td>-72.480431</td>\n",
       "      <td>9039.1645</td>\n",
       "      <td>7964.1255</td>\n",
       "    </tr>\n",
       "    <tr>\n",
       "      <th>1</th>\n",
       "      <td>339144f8-50e1-633e-a013-f361391c4cff</td>\n",
       "      <td>1998-05-11</td>\n",
       "      <td>NaN</td>\n",
       "      <td>999-10-8743</td>\n",
       "      <td>S99996708</td>\n",
       "      <td>X75063318X</td>\n",
       "      <td>Mr.</td>\n",
       "      <td>Chi716</td>\n",
       "      <td>Greenfelder433</td>\n",
       "      <td>NaN</td>\n",
       "      <td>...</td>\n",
       "      <td>Athens  Athens Prefecture  GR</td>\n",
       "      <td>1060 Bernhard Crossroad Suite 15</td>\n",
       "      <td>Boston</td>\n",
       "      <td>Massachusetts</td>\n",
       "      <td>Suffolk County</td>\n",
       "      <td>2131.0</td>\n",
       "      <td>42.292557</td>\n",
       "      <td>-71.061160</td>\n",
       "      <td>571935.8725</td>\n",
       "      <td>787.5375</td>\n",
       "    </tr>\n",
       "    <tr>\n",
       "      <th>2</th>\n",
       "      <td>d488232e-bf14-4bed-08c0-a82f34b6a197</td>\n",
       "      <td>2003-01-28</td>\n",
       "      <td>1999-01-01</td>\n",
       "      <td>999-56-6057</td>\n",
       "      <td>S99929424</td>\n",
       "      <td>NaN</td>\n",
       "      <td>Ms.</td>\n",
       "      <td>Phillis443</td>\n",
       "      <td>Walter473</td>\n",
       "      <td>NaN</td>\n",
       "      <td>...</td>\n",
       "      <td>Boston  Massachusetts  US</td>\n",
       "      <td>677 Ritchie Terrace</td>\n",
       "      <td>Hingham</td>\n",
       "      <td>Massachusetts</td>\n",
       "      <td>Plymouth County</td>\n",
       "      <td>2043.0</td>\n",
       "      <td>42.200491</td>\n",
       "      <td>-70.916076</td>\n",
       "      <td>582557.8030</td>\n",
       "      <td>104782.2070</td>\n",
       "    </tr>\n",
       "  </tbody>\n",
       "</table>\n",
       "<p>3 rows × 25 columns</p>\n",
       "</div>"
      ],
      "text/plain": [
       "                                     Id   BIRTHDATE   DEATHDATE          SSN  \\\n",
       "0  b9c610cd-28a6-4636-ccb6-c7a0d2a4cb85  2019-02-17         NaN  999-65-3251   \n",
       "1  339144f8-50e1-633e-a013-f361391c4cff  1998-05-11         NaN  999-10-8743   \n",
       "2  d488232e-bf14-4bed-08c0-a82f34b6a197  2003-01-28  1999-01-01  999-56-6057   \n",
       "\n",
       "     DRIVERS    PASSPORT PREFIX       FIRST            LAST SUFFIX  ...  \\\n",
       "0        NaN         NaN    NaN    Damon455      Langosh790    NaN  ...   \n",
       "1  S99996708  X75063318X    Mr.      Chi716  Greenfelder433    NaN  ...   \n",
       "2  S99929424         NaN    Ms.  Phillis443       Walter473    NaN  ...   \n",
       "\n",
       "                         BIRTHPLACE                           ADDRESS  \\\n",
       "0  Middleborough  Massachusetts  US            620 Lynch Tunnel Apt 0   \n",
       "1     Athens  Athens Prefecture  GR  1060 Bernhard Crossroad Suite 15   \n",
       "2         Boston  Massachusetts  US               677 Ritchie Terrace   \n",
       "\n",
       "          CITY          STATE           COUNTY     ZIP        LAT        LON  \\\n",
       "0  Springfield  Massachusetts   Hampden County  1104.0  42.080389 -72.480431   \n",
       "1       Boston  Massachusetts   Suffolk County  2131.0  42.292557 -71.061160   \n",
       "2      Hingham  Massachusetts  Plymouth County  2043.0  42.200491 -70.916076   \n",
       "\n",
       "  HEALTHCARE_EXPENSES HEALTHCARE_COVERAGE  \n",
       "0           9039.1645           7964.1255  \n",
       "1         571935.8725            787.5375  \n",
       "2         582557.8030         104782.2070  \n",
       "\n",
       "[3 rows x 25 columns]"
      ]
     },
     "execution_count": 77,
     "metadata": {},
     "output_type": "execute_result"
    }
   ],
   "source": [
    "# Display the first three rows of the dataframe\n",
    "df_patients.head(3)"
   ]
  },
  {
   "cell_type": "code",
   "execution_count": 78,
   "id": "729fe6b9-26e3-42e1-8670-88d3774ab711",
   "metadata": {},
   "outputs": [],
   "source": [
    "# Drop columns that are not required\n",
    "c_to_drop = [\n",
    "    'SSN',\n",
    "    'DRIVERS',\n",
    "    'PASSPORT',\n",
    "    'PREFIX',\n",
    "    'FIRST',\n",
    "    'LAST',\n",
    "    'SUFFIX',\n",
    "    'MAIDEN',\n",
    "    'MARITAL',\n",
    "    'BIRTHPLACE',\n",
    "    'ADDRESS',\n",
    "    'CITY',\n",
    "    'STATE',\n",
    "    'COUNTY',\n",
    "    'ZIP',\n",
    "    'LAT',\n",
    "    'LON',\n",
    "    'HEALTHCARE_EXPENSES',\n",
    "    'HEALTHCARE_COVERAGE'\n",
    "]\n",
    "\n",
    "df_patients.drop(columns=c_to_drop, inplace=True)"
   ]
  },
  {
   "cell_type": "code",
   "execution_count": 79,
   "id": "0010b2f3-e5ff-468d-aba8-3c2620a1a98f",
   "metadata": {},
   "outputs": [
    {
     "data": {
      "text/html": [
       "<div>\n",
       "<style scoped>\n",
       "    .dataframe tbody tr th:only-of-type {\n",
       "        vertical-align: middle;\n",
       "    }\n",
       "\n",
       "    .dataframe tbody tr th {\n",
       "        vertical-align: top;\n",
       "    }\n",
       "\n",
       "    .dataframe thead th {\n",
       "        text-align: right;\n",
       "    }\n",
       "</style>\n",
       "<table border=\"1\" class=\"dataframe\">\n",
       "  <thead>\n",
       "    <tr style=\"text-align: right;\">\n",
       "      <th></th>\n",
       "      <th>Id</th>\n",
       "      <th>BIRTHDATE</th>\n",
       "      <th>DEATHDATE</th>\n",
       "      <th>RACE</th>\n",
       "      <th>ETHNICITY</th>\n",
       "      <th>GENDER</th>\n",
       "    </tr>\n",
       "  </thead>\n",
       "  <tbody>\n",
       "    <tr>\n",
       "      <th>0</th>\n",
       "      <td>b9c610cd-28a6-4636-ccb6-c7a0d2a4cb85</td>\n",
       "      <td>2019-02-17</td>\n",
       "      <td>NaN</td>\n",
       "      <td>white</td>\n",
       "      <td>nonhispanic</td>\n",
       "      <td>M</td>\n",
       "    </tr>\n",
       "    <tr>\n",
       "      <th>1</th>\n",
       "      <td>339144f8-50e1-633e-a013-f361391c4cff</td>\n",
       "      <td>1998-05-11</td>\n",
       "      <td>NaN</td>\n",
       "      <td>white</td>\n",
       "      <td>nonhispanic</td>\n",
       "      <td>M</td>\n",
       "    </tr>\n",
       "    <tr>\n",
       "      <th>2</th>\n",
       "      <td>d488232e-bf14-4bed-08c0-a82f34b6a197</td>\n",
       "      <td>2003-01-28</td>\n",
       "      <td>1999-01-01</td>\n",
       "      <td>white</td>\n",
       "      <td>nonhispanic</td>\n",
       "      <td>F</td>\n",
       "    </tr>\n",
       "  </tbody>\n",
       "</table>\n",
       "</div>"
      ],
      "text/plain": [
       "                                     Id   BIRTHDATE   DEATHDATE   RACE  \\\n",
       "0  b9c610cd-28a6-4636-ccb6-c7a0d2a4cb85  2019-02-17         NaN  white   \n",
       "1  339144f8-50e1-633e-a013-f361391c4cff  1998-05-11         NaN  white   \n",
       "2  d488232e-bf14-4bed-08c0-a82f34b6a197  2003-01-28  1999-01-01  white   \n",
       "\n",
       "     ETHNICITY GENDER  \n",
       "0  nonhispanic      M  \n",
       "1  nonhispanic      M  \n",
       "2  nonhispanic      F  "
      ]
     },
     "execution_count": 79,
     "metadata": {},
     "output_type": "execute_result"
    }
   ],
   "source": [
    "# Display the first three rows of the dataframe\n",
    "df_patients.head(3)"
   ]
  },
  {
   "cell_type": "code",
   "execution_count": 80,
   "id": "83f07c14-b4f8-452f-951f-5dff6bc0d5e7",
   "metadata": {},
   "outputs": [
    {
     "data": {
      "text/plain": [
       "Id           object\n",
       "BIRTHDATE    object\n",
       "DEATHDATE    object\n",
       "RACE         object\n",
       "ETHNICITY    object\n",
       "GENDER       object\n",
       "dtype: object"
      ]
     },
     "execution_count": 80,
     "metadata": {},
     "output_type": "execute_result"
    }
   ],
   "source": [
    "# Display data types\n",
    "df_patients.dtypes"
   ]
  },
  {
   "cell_type": "code",
   "execution_count": 82,
   "id": "65d8b157-11b9-4a52-b1c6-8f4e88a67ce4",
   "metadata": {},
   "outputs": [
    {
     "data": {
      "text/plain": [
       "Id                   object\n",
       "BIRTHDATE    datetime64[ns]\n",
       "DEATHDATE    datetime64[ns]\n",
       "RACE                 object\n",
       "ETHNICITY            object\n",
       "GENDER               object\n",
       "dtype: object"
      ]
     },
     "execution_count": 82,
     "metadata": {},
     "output_type": "execute_result"
    }
   ],
   "source": [
    "# The date of birth and the date of death should be a datetime\n",
    "# Convert the BIRTHDATE column to a datetime column. If you try to convert the \n",
    "# column directly, an error will occur as some values are not valid dates.\n",
    "# Adding the \"errors=coerce\" will convert any invalid dates e.g. malformed, strings, numbers etc\n",
    "# into missing values\n",
    "df_patients['BIRTHDATE'] = pd.to_datetime(\n",
    "    df_patients['BIRTHDATE'],\n",
    "    errors='coerce'\n",
    ")\n",
    "\n",
    "df_patients['DEATHDATE'] = pd.to_datetime(\n",
    "    df_patients['DEATHDATE'],\n",
    "    errors='coerce'\n",
    ")\n",
    "\n",
    "df_patients.dtypes"
   ]
  },
  {
   "cell_type": "code",
   "execution_count": 83,
   "id": "f7200293-58e5-4b13-be41-eef241fe2677",
   "metadata": {},
   "outputs": [
    {
     "data": {
      "text/plain": [
       "1162"
      ]
     },
     "execution_count": 83,
     "metadata": {},
     "output_type": "execute_result"
    }
   ],
   "source": [
    "# Number of unique patients\n",
    "df_patients.Id.nunique()"
   ]
  },
  {
   "cell_type": "code",
   "execution_count": 84,
   "id": "0ceda791-15b1-4fe8-a5c3-3af44a70006b",
   "metadata": {},
   "outputs": [
    {
     "data": {
      "text/html": [
       "<div>\n",
       "<style scoped>\n",
       "    .dataframe tbody tr th:only-of-type {\n",
       "        vertical-align: middle;\n",
       "    }\n",
       "\n",
       "    .dataframe tbody tr th {\n",
       "        vertical-align: top;\n",
       "    }\n",
       "\n",
       "    .dataframe thead th {\n",
       "        text-align: right;\n",
       "    }\n",
       "</style>\n",
       "<table border=\"1\" class=\"dataframe\">\n",
       "  <thead>\n",
       "    <tr style=\"text-align: right;\">\n",
       "      <th></th>\n",
       "      <th>Id</th>\n",
       "      <th>BIRTHDATE</th>\n",
       "      <th>DEATHDATE</th>\n",
       "      <th>RACE</th>\n",
       "      <th>ETHNICITY</th>\n",
       "      <th>GENDER</th>\n",
       "    </tr>\n",
       "  </thead>\n",
       "  <tbody>\n",
       "  </tbody>\n",
       "</table>\n",
       "</div>"
      ],
      "text/plain": [
       "Empty DataFrame\n",
       "Columns: [Id, BIRTHDATE, DEATHDATE, RACE, ETHNICITY, GENDER]\n",
       "Index: []"
      ]
     },
     "execution_count": 84,
     "metadata": {},
     "output_type": "execute_result"
    }
   ],
   "source": [
    "# Rows where the patient id is missing\n",
    "df_patients[df_patients['Id'].isna()]"
   ]
  },
  {
   "cell_type": "code",
   "execution_count": 85,
   "id": "bb95f3f3-7740-4a3d-b915-2c14740bfd59",
   "metadata": {},
   "outputs": [],
   "source": [
    "# Create a flag for patient exclusion called 'exclude' and set default value to 0\n",
    "df_patients['exclude'] = 0"
   ]
  },
  {
   "cell_type": "code",
   "execution_count": 86,
   "id": "8b685b7c-e238-4291-a32f-b210b35ba6fd",
   "metadata": {},
   "outputs": [
    {
     "data": {
      "text/plain": [
       "GENDER\n",
       "F         600\n",
       "M         538\n",
       "NaN        20\n",
       "8293.3      4\n",
       "Name: count, dtype: int64"
      ]
     },
     "execution_count": 86,
     "metadata": {},
     "output_type": "execute_result"
    }
   ],
   "source": [
    "# Count unique values for GENDER\n",
    "df_patients.GENDER.value_counts(dropna=False)"
   ]
  },
  {
   "cell_type": "code",
   "execution_count": 87,
   "id": "f98a95ec-c807-4178-b139-9bbc6f9dfcf7",
   "metadata": {},
   "outputs": [],
   "source": [
    "# Exclude patients with invalid or missing gender\n",
    "valid_genders = ['F', 'M']\n",
    "m = (df_patients.GENDER.isna())|(~df_patients.GENDER.isin(valid_genders))\n",
    "df_patients.loc[m, 'exclude'] = 1"
   ]
  },
  {
   "cell_type": "code",
   "execution_count": 88,
   "id": "623da992-fd68-4f28-aea4-54a1da6e6fed",
   "metadata": {},
   "outputs": [
    {
     "data": {
      "text/plain": [
       "ETHNICITY\n",
       "nonhispanic    1057\n",
       "hispanic        105\n",
       "Name: count, dtype: int64"
      ]
     },
     "execution_count": 88,
     "metadata": {},
     "output_type": "execute_result"
    }
   ],
   "source": [
    "# Count unique values for ETHNICITY\n",
    "df_patients.ETHNICITY.value_counts(dropna=False)"
   ]
  },
  {
   "cell_type": "code",
   "execution_count": 89,
   "id": "24b3ebbf-9c3e-45f8-b4fd-a2639d342752",
   "metadata": {},
   "outputs": [
    {
     "data": {
      "text/plain": [
       "RACE\n",
       "white       944\n",
       "black        96\n",
       "asian        72\n",
       "hawaiian     16\n",
       "XJniDSe      15\n",
       "other        11\n",
       "???-          6\n",
       "native        2\n",
       "Name: count, dtype: int64"
      ]
     },
     "execution_count": 89,
     "metadata": {},
     "output_type": "execute_result"
    }
   ],
   "source": [
    "# Count unique values for RACE\n",
    "df_patients.RACE.value_counts(dropna=False)"
   ]
  },
  {
   "cell_type": "code",
   "execution_count": 90,
   "id": "dc594f05-22d9-46c7-9f79-378508be6cfe",
   "metadata": {},
   "outputs": [],
   "source": [
    "# Exclude patients with invalid RACE values\n",
    "valid_race = ['white', 'black', 'asian', 'hawaiian', 'other', 'native']\n",
    "m = (df_patients.RACE.isna())|(~df_patients.RACE.isin(valid_race))\n",
    "df_patients.loc[m, 'exclude'] = 1"
   ]
  },
  {
   "cell_type": "code",
   "execution_count": 93,
   "id": "7e8dbbe3-4e2c-4e26-b48b-a6789f03accb",
   "metadata": {},
   "outputs": [
    {
     "data": {
      "text/html": [
       "<div>\n",
       "<style scoped>\n",
       "    .dataframe tbody tr th:only-of-type {\n",
       "        vertical-align: middle;\n",
       "    }\n",
       "\n",
       "    .dataframe tbody tr th {\n",
       "        vertical-align: top;\n",
       "    }\n",
       "\n",
       "    .dataframe thead th {\n",
       "        text-align: right;\n",
       "    }\n",
       "</style>\n",
       "<table border=\"1\" class=\"dataframe\">\n",
       "  <thead>\n",
       "    <tr style=\"text-align: right;\">\n",
       "      <th></th>\n",
       "      <th>Id</th>\n",
       "      <th>BIRTHDATE</th>\n",
       "      <th>DEATHDATE</th>\n",
       "      <th>RACE</th>\n",
       "      <th>ETHNICITY</th>\n",
       "      <th>GENDER</th>\n",
       "      <th>exclude</th>\n",
       "    </tr>\n",
       "  </thead>\n",
       "  <tbody>\n",
       "    <tr>\n",
       "      <th>326</th>\n",
       "      <td>8a69ae35-07ad-e093-0162-ad02d8e1e070</td>\n",
       "      <td>NaT</td>\n",
       "      <td>NaT</td>\n",
       "      <td>white</td>\n",
       "      <td>nonhispanic</td>\n",
       "      <td>M</td>\n",
       "      <td>1</td>\n",
       "    </tr>\n",
       "    <tr>\n",
       "      <th>457</th>\n",
       "      <td>0a168e32-7b62-8597-0e11-296871bb764f</td>\n",
       "      <td>NaT</td>\n",
       "      <td>NaT</td>\n",
       "      <td>black</td>\n",
       "      <td>nonhispanic</td>\n",
       "      <td>M</td>\n",
       "      <td>1</td>\n",
       "    </tr>\n",
       "    <tr>\n",
       "      <th>573</th>\n",
       "      <td>3b7ccd6e-f331-abc9-a498-a16280c3ee10</td>\n",
       "      <td>NaT</td>\n",
       "      <td>NaT</td>\n",
       "      <td>white</td>\n",
       "      <td>nonhispanic</td>\n",
       "      <td>F</td>\n",
       "      <td>1</td>\n",
       "    </tr>\n",
       "    <tr>\n",
       "      <th>874</th>\n",
       "      <td>42daa5f0-9beb-4d16-322b-9df14bbe418b</td>\n",
       "      <td>NaT</td>\n",
       "      <td>1992-01-06</td>\n",
       "      <td>white</td>\n",
       "      <td>nonhispanic</td>\n",
       "      <td>F</td>\n",
       "      <td>1</td>\n",
       "    </tr>\n",
       "  </tbody>\n",
       "</table>\n",
       "</div>"
      ],
      "text/plain": [
       "                                       Id BIRTHDATE  DEATHDATE   RACE  \\\n",
       "326  8a69ae35-07ad-e093-0162-ad02d8e1e070       NaT        NaT  white   \n",
       "457  0a168e32-7b62-8597-0e11-296871bb764f       NaT        NaT  black   \n",
       "573  3b7ccd6e-f331-abc9-a498-a16280c3ee10       NaT        NaT  white   \n",
       "874  42daa5f0-9beb-4d16-322b-9df14bbe418b       NaT 1992-01-06  white   \n",
       "\n",
       "       ETHNICITY GENDER  exclude  \n",
       "326  nonhispanic      M        1  \n",
       "457  nonhispanic      M        1  \n",
       "573  nonhispanic      F        1  \n",
       "874  nonhispanic      F        1  "
      ]
     },
     "execution_count": 93,
     "metadata": {},
     "output_type": "execute_result"
    }
   ],
   "source": [
    "# Display and exclude patients with an invalid date of birth\n",
    "# Date of birth is missing\n",
    "m = (df_patients.BIRTHDATE.isna())\n",
    "df_patients.loc[m, 'exclude'] = 1\n",
    "df_patients[df_patients.BIRTHDATE.isna()]"
   ]
  },
  {
   "cell_type": "code",
   "execution_count": 96,
   "id": "33f4fa59-a74b-4597-af11-4449492f2824",
   "metadata": {},
   "outputs": [
    {
     "data": {
      "text/html": [
       "<div>\n",
       "<style scoped>\n",
       "    .dataframe tbody tr th:only-of-type {\n",
       "        vertical-align: middle;\n",
       "    }\n",
       "\n",
       "    .dataframe tbody tr th {\n",
       "        vertical-align: top;\n",
       "    }\n",
       "\n",
       "    .dataframe thead th {\n",
       "        text-align: right;\n",
       "    }\n",
       "</style>\n",
       "<table border=\"1\" class=\"dataframe\">\n",
       "  <thead>\n",
       "    <tr style=\"text-align: right;\">\n",
       "      <th></th>\n",
       "      <th>Id</th>\n",
       "      <th>BIRTHDATE</th>\n",
       "      <th>DEATHDATE</th>\n",
       "      <th>RACE</th>\n",
       "      <th>ETHNICITY</th>\n",
       "      <th>GENDER</th>\n",
       "      <th>exclude</th>\n",
       "    </tr>\n",
       "  </thead>\n",
       "  <tbody>\n",
       "    <tr>\n",
       "      <th>2</th>\n",
       "      <td>d488232e-bf14-4bed-08c0-a82f34b6a197</td>\n",
       "      <td>2003-01-28</td>\n",
       "      <td>1999-01-01</td>\n",
       "      <td>white</td>\n",
       "      <td>nonhispanic</td>\n",
       "      <td>F</td>\n",
       "      <td>1</td>\n",
       "    </tr>\n",
       "    <tr>\n",
       "      <th>229</th>\n",
       "      <td>965ecf4b-40d6-02e3-fe08-acd9eafc68fe</td>\n",
       "      <td>2034-01-01</td>\n",
       "      <td>2002-12-06</td>\n",
       "      <td>white</td>\n",
       "      <td>nonhispanic</td>\n",
       "      <td>M</td>\n",
       "      <td>1</td>\n",
       "    </tr>\n",
       "    <tr>\n",
       "      <th>661</th>\n",
       "      <td>e0b4bd84-4df2-d30c-cd67-a9daee769602</td>\n",
       "      <td>2034-01-01</td>\n",
       "      <td>2005-03-17</td>\n",
       "      <td>white</td>\n",
       "      <td>nonhispanic</td>\n",
       "      <td>M</td>\n",
       "      <td>1</td>\n",
       "    </tr>\n",
       "    <tr>\n",
       "      <th>777</th>\n",
       "      <td>4fadd99c-4f13-0c0f-2b37-2c3c9c13ff78</td>\n",
       "      <td>2034-01-01</td>\n",
       "      <td>1966-05-07</td>\n",
       "      <td>white</td>\n",
       "      <td>nonhispanic</td>\n",
       "      <td>M</td>\n",
       "      <td>1</td>\n",
       "    </tr>\n",
       "    <tr>\n",
       "      <th>781</th>\n",
       "      <td>71feb043-65a2-618f-8a43-77990c308b76</td>\n",
       "      <td>2034-01-01</td>\n",
       "      <td>2013-12-13</td>\n",
       "      <td>white</td>\n",
       "      <td>nonhispanic</td>\n",
       "      <td>F</td>\n",
       "      <td>1</td>\n",
       "    </tr>\n",
       "    <tr>\n",
       "      <th>1049</th>\n",
       "      <td>79e131ae-ef35-fe33-f806-df3c5ed41b11</td>\n",
       "      <td>2034-01-01</td>\n",
       "      <td>1994-04-22</td>\n",
       "      <td>white</td>\n",
       "      <td>nonhispanic</td>\n",
       "      <td>F</td>\n",
       "      <td>1</td>\n",
       "    </tr>\n",
       "  </tbody>\n",
       "</table>\n",
       "</div>"
      ],
      "text/plain": [
       "                                        Id  BIRTHDATE  DEATHDATE   RACE  \\\n",
       "2     d488232e-bf14-4bed-08c0-a82f34b6a197 2003-01-28 1999-01-01  white   \n",
       "229   965ecf4b-40d6-02e3-fe08-acd9eafc68fe 2034-01-01 2002-12-06  white   \n",
       "661   e0b4bd84-4df2-d30c-cd67-a9daee769602 2034-01-01 2005-03-17  white   \n",
       "777   4fadd99c-4f13-0c0f-2b37-2c3c9c13ff78 2034-01-01 1966-05-07  white   \n",
       "781   71feb043-65a2-618f-8a43-77990c308b76 2034-01-01 2013-12-13  white   \n",
       "1049  79e131ae-ef35-fe33-f806-df3c5ed41b11 2034-01-01 1994-04-22  white   \n",
       "\n",
       "        ETHNICITY GENDER  exclude  \n",
       "2     nonhispanic      F        1  \n",
       "229   nonhispanic      M        1  \n",
       "661   nonhispanic      M        1  \n",
       "777   nonhispanic      M        1  \n",
       "781   nonhispanic      F        1  \n",
       "1049  nonhispanic      F        1  "
      ]
     },
     "execution_count": 96,
     "metadata": {},
     "output_type": "execute_result"
    }
   ],
   "source": [
    "# Find and exclude patients were the date of birth is after the date of death\n",
    "m = df_patients['BIRTHDATE']>df_patients['DEATHDATE']\n",
    "df_patients.loc[m, 'exclude'] = 1 \n",
    "df_patients[df_patients['BIRTHDATE']>df_patients['DEATHDATE']]"
   ]
  },
  {
   "cell_type": "code",
   "execution_count": 97,
   "id": "90bbd0f5-d41d-4c39-9cb3-8e46c3385c12",
   "metadata": {},
   "outputs": [
    {
     "data": {
      "text/plain": [
       "<AxesSubplot:ylabel='Frequency'>"
      ]
     },
     "execution_count": 97,
     "metadata": {},
     "output_type": "execute_result"
    },
    {
     "data": {
      "image/png": "[encoded data removed]",
      "text/plain": [
       "<Figure size 640x480 with 1 Axes>"
      ]
     },
     "metadata": {},
     "output_type": "display_data"
    }
   ],
   "source": [
    "# Find and exclude patients with a year of birth before 1910 \n",
    "# or after 2021\n",
    "df_patients.BIRTHDATE.dt.year.plot(kind='hist')"
   ]
  },
  {
   "cell_type": "code",
   "execution_count": 98,
   "id": "09301217-8bc6-4824-9053-6792e0730583",
   "metadata": {},
   "outputs": [
    {
     "name": "stdout",
     "output_type": "stream",
     "text": [
      "(19, 7)\n"
     ]
    }
   ],
   "source": [
    "m = (df_patients.BIRTHDATE.dt.year < 1910)|(df_patients.BIRTHDATE.dt.year > 2021)\n",
    "print(df_patients.loc[m].shape)\n",
    "df_patients.loc[m, 'exclude'] = 1"
   ]
  },
  {
   "cell_type": "code",
   "execution_count": 99,
   "id": "b3ace636-0455-41f8-84d5-3d2f137140df",
   "metadata": {},
   "outputs": [
    {
     "data": {
      "text/plain": [
       "Timestamp('1911-07-14 00:00:00')"
      ]
     },
     "execution_count": 99,
     "metadata": {},
     "output_type": "execute_result"
    }
   ],
   "source": [
    "df_patients[df_patients['exclude']==0].BIRTHDATE.min()"
   ]
  },
  {
   "cell_type": "code",
   "execution_count": 100,
   "id": "9680d753-060d-4a8e-8394-b50cc750a26d",
   "metadata": {},
   "outputs": [
    {
     "data": {
      "text/plain": [
       "Timestamp('1900-01-01 00:00:00')"
      ]
     },
     "execution_count": 100,
     "metadata": {},
     "output_type": "execute_result"
    }
   ],
   "source": [
    "df_patients[df_patients['exclude']==1].BIRTHDATE.min()"
   ]
  },
  {
   "cell_type": "code",
   "execution_count": 101,
   "id": "b8e52a2a-51fe-4a7e-bf11-364893be87ec",
   "metadata": {},
   "outputs": [
    {
     "data": {
      "text/plain": [
       "exclude\n",
       "0    1093\n",
       "1      69\n",
       "Name: count, dtype: int64"
      ]
     },
     "execution_count": 101,
     "metadata": {},
     "output_type": "execute_result"
    }
   ],
   "source": [
    "df_patients.exclude.value_counts()"
   ]
  },
  {
   "cell_type": "code",
   "execution_count": 102,
   "id": "1e414a03-1f6d-4dcd-9304-2a8773350690",
   "metadata": {},
   "outputs": [
    {
     "data": {
      "text/plain": [
       "Id                   object\n",
       "BIRTHDATE    datetime64[ns]\n",
       "DEATHDATE    datetime64[ns]\n",
       "RACE                 object\n",
       "ETHNICITY            object\n",
       "GENDER               object\n",
       "exclude               int64\n",
       "dtype: object"
      ]
     },
     "execution_count": 102,
     "metadata": {},
     "output_type": "execute_result"
    }
   ],
   "source": [
    "df_patients.dtypes"
   ]
  },
  {
   "cell_type": "code",
   "execution_count": null,
   "id": "15710814-1c46-497a-9bf2-1043ac877435",
   "metadata": {},
   "outputs": [],
   "source": []
  }
 ],
 "metadata": {
  "kernelspec": {
   "display_name": "Python 3 (ipykernel)",
   "language": "python",
   "name": "python3"
  },
  "language_info": {
   "codemirror_mode": {
    "name": "ipython",
    "version": 3
   },
   "file_extension": ".py",
   "mimetype": "text/x-python",
   "name": "python",
   "nbconvert_exporter": "python",
   "pygments_lexer": "ipython3",
   "version": "3.8.16"
  }
 },
 "nbformat": 4,
 "nbformat_minor": 5
}
