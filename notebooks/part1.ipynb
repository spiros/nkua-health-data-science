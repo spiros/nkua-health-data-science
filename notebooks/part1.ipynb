{
 "cells": [
  {
   "cell_type": "code",
   "execution_count": 1,
   "id": "acf4ddd9-187a-4d7d-997d-c08cd7cb52a1",
   "metadata": {},
   "outputs": [],
   "source": [
    "import pandas as pd"
   ]
  },
  {
   "cell_type": "code",
   "execution_count": 4,
   "id": "87193836-9c25-4faf-9b6d-95c2ea23e9c5",
   "metadata": {},
   "outputs": [],
   "source": [
    "patients_file = \"https://github.com/spiros/nkua-health-data-science/raw/master/data/dest/patients.csv.gz\"\n",
    "df_patients = pd.read_csv(patients_file)"
   ]
  },
  {
   "cell_type": "code",
   "execution_count": 5,
   "id": "d071d8d4-ee4c-4e2e-8e59-ec748ce0360b",
   "metadata": {},
   "outputs": [
    {
     "data": {
      "text/plain": [
       "(1162, 25)"
      ]
     },
     "execution_count": 5,
     "metadata": {},
     "output_type": "execute_result"
    }
   ],
   "source": [
    "df_patients.shape"
   ]
  },
  {
   "cell_type": "code",
   "execution_count": 8,
   "id": "729fe6b9-26e3-42e1-8670-88d3774ab711",
   "metadata": {},
   "outputs": [],
   "source": [
    "c_to_drop = ['SSN', 'DRIVERS', 'PASSPORT', 'PREFIX', 'FIRST', 'LAST', 'SUFFIX', 'MAIDEN', 'MARITAL', 'BIRTHPLACE', 'ADDRESS', 'CITY', 'STATE', 'COUNTY', 'ZIP',\n",
    "       'LAT', 'LON', 'HEALTHCARE_EXPENSES', 'HEALTHCARE_COVERAGE']\n",
    "df_patients.drop(columns=c_to_drop, inplace=True)"
   ]
  },
  {
   "cell_type": "code",
   "execution_count": 9,
   "id": "83f07c14-b4f8-452f-951f-5dff6bc0d5e7",
   "metadata": {},
   "outputs": [
    {
     "data": {
      "text/plain": [
       "Id           object\n",
       "BIRTHDATE    object\n",
       "DEATHDATE    object\n",
       "RACE         object\n",
       "ETHNICITY    object\n",
       "GENDER       object\n",
       "dtype: object"
      ]
     },
     "execution_count": 9,
     "metadata": {},
     "output_type": "execute_result"
    }
   ],
   "source": [
    "df_patients.dtypes"
   ]
  },
  {
   "cell_type": "code",
   "execution_count": 10,
   "id": "281e44e9-665a-497d-b0a2-5ec2578b2c14",
   "metadata": {},
   "outputs": [
    {
     "data": {
      "text/html": [
       "<div>\n",
       "<style scoped>\n",
       "    .dataframe tbody tr th:only-of-type {\n",
       "        vertical-align: middle;\n",
       "    }\n",
       "\n",
       "    .dataframe tbody tr th {\n",
       "        vertical-align: top;\n",
       "    }\n",
       "\n",
       "    .dataframe thead th {\n",
       "        text-align: right;\n",
       "    }\n",
       "</style>\n",
       "<table border=\"1\" class=\"dataframe\">\n",
       "  <thead>\n",
       "    <tr style=\"text-align: right;\">\n",
       "      <th></th>\n",
       "      <th>Id</th>\n",
       "      <th>BIRTHDATE</th>\n",
       "      <th>DEATHDATE</th>\n",
       "      <th>RACE</th>\n",
       "      <th>ETHNICITY</th>\n",
       "      <th>GENDER</th>\n",
       "    </tr>\n",
       "  </thead>\n",
       "  <tbody>\n",
       "    <tr>\n",
       "      <th>0</th>\n",
       "      <td>b9c610cd-28a6-4636-ccb6-c7a0d2a4cb85</td>\n",
       "      <td>2019-02-17</td>\n",
       "      <td>NaN</td>\n",
       "      <td>white</td>\n",
       "      <td>nonhispanic</td>\n",
       "      <td>M</td>\n",
       "    </tr>\n",
       "    <tr>\n",
       "      <th>1</th>\n",
       "      <td>339144f8-50e1-633e-a013-f361391c4cff</td>\n",
       "      <td>1998-05-11</td>\n",
       "      <td>NaN</td>\n",
       "      <td>white</td>\n",
       "      <td>nonhispanic</td>\n",
       "      <td>M</td>\n",
       "    </tr>\n",
       "    <tr>\n",
       "      <th>2</th>\n",
       "      <td>d488232e-bf14-4bed-08c0-a82f34b6a197</td>\n",
       "      <td>2003-01-28</td>\n",
       "      <td>1999-01-01</td>\n",
       "      <td>white</td>\n",
       "      <td>nonhispanic</td>\n",
       "      <td>F</td>\n",
       "    </tr>\n",
       "  </tbody>\n",
       "</table>\n",
       "</div>"
      ],
      "text/plain": [
       "                                     Id   BIRTHDATE   DEATHDATE   RACE  \\\n",
       "0  b9c610cd-28a6-4636-ccb6-c7a0d2a4cb85  2019-02-17         NaN  white   \n",
       "1  339144f8-50e1-633e-a013-f361391c4cff  1998-05-11         NaN  white   \n",
       "2  d488232e-bf14-4bed-08c0-a82f34b6a197  2003-01-28  1999-01-01  white   \n",
       "\n",
       "     ETHNICITY GENDER  \n",
       "0  nonhispanic      M  \n",
       "1  nonhispanic      M  \n",
       "2  nonhispanic      F  "
      ]
     },
     "execution_count": 10,
     "metadata": {},
     "output_type": "execute_result"
    }
   ],
   "source": [
    "df_patients.head(3)"
   ]
  },
  {
   "cell_type": "code",
   "execution_count": 12,
   "id": "8b685b7c-e238-4291-a32f-b210b35ba6fd",
   "metadata": {},
   "outputs": [
    {
     "data": {
      "text/plain": [
       "GENDER\n",
       "F         600\n",
       "M         538\n",
       "NaN        20\n",
       "8293.3      4\n",
       "Name: count, dtype: int64"
      ]
     },
     "execution_count": 12,
     "metadata": {},
     "output_type": "execute_result"
    }
   ],
   "source": [
    "df_patients.GENDER.value_counts(dropna=False)"
   ]
  },
  {
   "cell_type": "code",
   "execution_count": 13,
   "id": "623da992-fd68-4f28-aea4-54a1da6e6fed",
   "metadata": {},
   "outputs": [
    {
     "data": {
      "text/plain": [
       "ETHNICITY\n",
       "nonhispanic    1057\n",
       "hispanic        105\n",
       "Name: count, dtype: int64"
      ]
     },
     "execution_count": 13,
     "metadata": {},
     "output_type": "execute_result"
    }
   ],
   "source": [
    "df_patients.ETHNICITY.value_counts(dropna=False)"
   ]
  },
  {
   "cell_type": "code",
   "execution_count": 14,
   "id": "24b3ebbf-9c3e-45f8-b4fd-a2639d342752",
   "metadata": {},
   "outputs": [
    {
     "data": {
      "text/plain": [
       "RACE\n",
       "white       944\n",
       "black        96\n",
       "asian        72\n",
       "hawaiian     16\n",
       "XJniDSe      15\n",
       "other        11\n",
       "???-          6\n",
       "native        2\n",
       "Name: count, dtype: int64"
      ]
     },
     "execution_count": 14,
     "metadata": {},
     "output_type": "execute_result"
    }
   ],
   "source": [
    "df_patients.RACE.value_counts(dropna=False)"
   ]
  },
  {
   "cell_type": "code",
   "execution_count": 16,
   "id": "7e8dbbe3-4e2c-4e26-b48b-a6789f03accb",
   "metadata": {},
   "outputs": [
    {
     "data": {
      "text/html": [
       "<div>\n",
       "<style scoped>\n",
       "    .dataframe tbody tr th:only-of-type {\n",
       "        vertical-align: middle;\n",
       "    }\n",
       "\n",
       "    .dataframe tbody tr th {\n",
       "        vertical-align: top;\n",
       "    }\n",
       "\n",
       "    .dataframe thead th {\n",
       "        text-align: right;\n",
       "    }\n",
       "</style>\n",
       "<table border=\"1\" class=\"dataframe\">\n",
       "  <thead>\n",
       "    <tr style=\"text-align: right;\">\n",
       "      <th></th>\n",
       "      <th>Id</th>\n",
       "      <th>BIRTHDATE</th>\n",
       "      <th>DEATHDATE</th>\n",
       "      <th>RACE</th>\n",
       "      <th>ETHNICITY</th>\n",
       "      <th>GENDER</th>\n",
       "    </tr>\n",
       "  </thead>\n",
       "  <tbody>\n",
       "    <tr>\n",
       "      <th>457</th>\n",
       "      <td>0a168e32-7b62-8597-0e11-296871bb764f</td>\n",
       "      <td>NaN</td>\n",
       "      <td>NaN</td>\n",
       "      <td>black</td>\n",
       "      <td>nonhispanic</td>\n",
       "      <td>M</td>\n",
       "    </tr>\n",
       "    <tr>\n",
       "      <th>874</th>\n",
       "      <td>42daa5f0-9beb-4d16-322b-9df14bbe418b</td>\n",
       "      <td>NaN</td>\n",
       "      <td>1992-01-06</td>\n",
       "      <td>white</td>\n",
       "      <td>nonhispanic</td>\n",
       "      <td>F</td>\n",
       "    </tr>\n",
       "  </tbody>\n",
       "</table>\n",
       "</div>"
      ],
      "text/plain": [
       "                                       Id BIRTHDATE   DEATHDATE   RACE  \\\n",
       "457  0a168e32-7b62-8597-0e11-296871bb764f       NaN         NaN  black   \n",
       "874  42daa5f0-9beb-4d16-322b-9df14bbe418b       NaN  1992-01-06  white   \n",
       "\n",
       "       ETHNICITY GENDER  \n",
       "457  nonhispanic      M  \n",
       "874  nonhispanic      F  "
      ]
     },
     "execution_count": 16,
     "metadata": {},
     "output_type": "execute_result"
    }
   ],
   "source": [
    "df_patients[df_patients.BIRTHDATE.isna()]"
   ]
  },
  {
   "cell_type": "code",
   "execution_count": 20,
   "id": "cf7a1195-bd7e-474f-b277-a7c3973500f6",
   "metadata": {},
   "outputs": [],
   "source": [
    "df_patients['BIRTHDATE'] = pd.to_datetime(df_patients['BIRTHDATE'], errors='coerce')\n",
    "df_patients[df_patients['BIRTHDATE'].isna()].shape"
   ]
  },
  {
   "cell_type": "code",
   "execution_count": 27,
   "id": "33f4fa59-a74b-4597-af11-4449492f2824",
   "metadata": {},
   "outputs": [
    {
     "data": {
      "text/html": [
       "<div>\n",
       "<style scoped>\n",
       "    .dataframe tbody tr th:only-of-type {\n",
       "        vertical-align: middle;\n",
       "    }\n",
       "\n",
       "    .dataframe tbody tr th {\n",
       "        vertical-align: top;\n",
       "    }\n",
       "\n",
       "    .dataframe thead th {\n",
       "        text-align: right;\n",
       "    }\n",
       "</style>\n",
       "<table border=\"1\" class=\"dataframe\">\n",
       "  <thead>\n",
       "    <tr style=\"text-align: right;\">\n",
       "      <th></th>\n",
       "      <th>Id</th>\n",
       "      <th>BIRTHDATE</th>\n",
       "      <th>DEATHDATE</th>\n",
       "      <th>RACE</th>\n",
       "      <th>ETHNICITY</th>\n",
       "      <th>GENDER</th>\n",
       "    </tr>\n",
       "  </thead>\n",
       "  <tbody>\n",
       "    <tr>\n",
       "      <th>2</th>\n",
       "      <td>d488232e-bf14-4bed-08c0-a82f34b6a197</td>\n",
       "      <td>2003-01-28</td>\n",
       "      <td>1999-01-01</td>\n",
       "      <td>white</td>\n",
       "      <td>nonhispanic</td>\n",
       "      <td>F</td>\n",
       "    </tr>\n",
       "    <tr>\n",
       "      <th>229</th>\n",
       "      <td>965ecf4b-40d6-02e3-fe08-acd9eafc68fe</td>\n",
       "      <td>2034-01-01</td>\n",
       "      <td>2002-12-06</td>\n",
       "      <td>white</td>\n",
       "      <td>nonhispanic</td>\n",
       "      <td>M</td>\n",
       "    </tr>\n",
       "    <tr>\n",
       "      <th>661</th>\n",
       "      <td>e0b4bd84-4df2-d30c-cd67-a9daee769602</td>\n",
       "      <td>2034-01-01</td>\n",
       "      <td>2005-03-17</td>\n",
       "      <td>white</td>\n",
       "      <td>nonhispanic</td>\n",
       "      <td>M</td>\n",
       "    </tr>\n",
       "    <tr>\n",
       "      <th>777</th>\n",
       "      <td>4fadd99c-4f13-0c0f-2b37-2c3c9c13ff78</td>\n",
       "      <td>2034-01-01</td>\n",
       "      <td>1966-05-07</td>\n",
       "      <td>white</td>\n",
       "      <td>nonhispanic</td>\n",
       "      <td>M</td>\n",
       "    </tr>\n",
       "    <tr>\n",
       "      <th>781</th>\n",
       "      <td>71feb043-65a2-618f-8a43-77990c308b76</td>\n",
       "      <td>2034-01-01</td>\n",
       "      <td>2013-12-13</td>\n",
       "      <td>white</td>\n",
       "      <td>nonhispanic</td>\n",
       "      <td>F</td>\n",
       "    </tr>\n",
       "    <tr>\n",
       "      <th>1049</th>\n",
       "      <td>79e131ae-ef35-fe33-f806-df3c5ed41b11</td>\n",
       "      <td>2034-01-01</td>\n",
       "      <td>1994-04-22</td>\n",
       "      <td>white</td>\n",
       "      <td>nonhispanic</td>\n",
       "      <td>F</td>\n",
       "    </tr>\n",
       "  </tbody>\n",
       "</table>\n",
       "</div>"
      ],
      "text/plain": [
       "                                        Id  BIRTHDATE   DEATHDATE   RACE  \\\n",
       "2     d488232e-bf14-4bed-08c0-a82f34b6a197 2003-01-28  1999-01-01  white   \n",
       "229   965ecf4b-40d6-02e3-fe08-acd9eafc68fe 2034-01-01  2002-12-06  white   \n",
       "661   e0b4bd84-4df2-d30c-cd67-a9daee769602 2034-01-01  2005-03-17  white   \n",
       "777   4fadd99c-4f13-0c0f-2b37-2c3c9c13ff78 2034-01-01  1966-05-07  white   \n",
       "781   71feb043-65a2-618f-8a43-77990c308b76 2034-01-01  2013-12-13  white   \n",
       "1049  79e131ae-ef35-fe33-f806-df3c5ed41b11 2034-01-01  1994-04-22  white   \n",
       "\n",
       "        ETHNICITY GENDER  \n",
       "2     nonhispanic      F  \n",
       "229   nonhispanic      M  \n",
       "661   nonhispanic      M  \n",
       "777   nonhispanic      M  \n",
       "781   nonhispanic      F  \n",
       "1049  nonhispanic      F  "
      ]
     },
     "execution_count": 27,
     "metadata": {},
     "output_type": "execute_result"
    }
   ],
   "source": [
    "df_patients[df_patients['BIRTHDATE']>df_patients['DEATHDATE']]"
   ]
  },
  {
   "cell_type": "code",
   "execution_count": 34,
   "id": "90bbd0f5-d41d-4c39-9cb3-8e46c3385c12",
   "metadata": {},
   "outputs": [
    {
     "data": {
      "text/plain": [
       "<AxesSubplot:ylabel='Frequency'>"
      ]
     },
     "execution_count": 34,
     "metadata": {},
     "output_type": "execute_result"
    },
    {
     "data": {
      "image/png": "[encoded data removed]",
      "text/plain": [
       "<Figure size 432x288 with 1 Axes>"
      ]
     },
     "metadata": {
      "needs_background": "light"
     },
     "output_type": "display_data"
    }
   ],
   "source": [
    "df_patients.BIRTHDATE.dt.year.plot(kind='hist')"
   ]
  },
  {
   "cell_type": "code",
   "execution_count": 28,
   "id": "09301217-8bc6-4824-9053-6792e0730583",
   "metadata": {},
   "outputs": [
    {
     "data": {
      "text/plain": [
       "Timestamp('1900-01-01 00:00:00')"
      ]
     },
     "execution_count": 28,
     "metadata": {},
     "output_type": "execute_result"
    }
   ],
   "source": [
    "df_patients.BIRTHDATE.min()"
   ]
  },
  {
   "cell_type": "code",
   "execution_count": 29,
   "id": "9680d753-060d-4a8e-8394-b50cc750a26d",
   "metadata": {},
   "outputs": [
    {
     "data": {
      "text/plain": [
       "Timestamp('2034-01-01 00:00:00')"
      ]
     },
     "execution_count": 29,
     "metadata": {},
     "output_type": "execute_result"
    }
   ],
   "source": [
    "df_patients.BIRTHDATE.max()"
   ]
  },
  {
   "cell_type": "code",
   "execution_count": null,
   "id": "b8e52a2a-51fe-4a7e-bf11-364893be87ec",
   "metadata": {},
   "outputs": [],
   "source": []
  }
 ],
 "metadata": {
  "kernelspec": {
   "display_name": "Python 3 (ipykernel)",
   "language": "python",
   "name": "python3"
  },
  "language_info": {
   "codemirror_mode": {
    "name": "ipython",
    "version": 3
   },
   "file_extension": ".py",
   "mimetype": "text/x-python",
   "name": "python",
   "nbconvert_exporter": "python",
   "pygments_lexer": "ipython3",
   "version": "3.9.12"
  }
 },
 "nbformat": 4,
 "nbformat_minor": 5
}
